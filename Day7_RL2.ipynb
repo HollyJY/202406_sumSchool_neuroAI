{
  "cells": [
    {
      "cell_type": "markdown",
      "metadata": {
        "id": "view-in-github",
        "colab_type": "text"
      },
      "source": [
        "<a href=\"https://colab.research.google.com/github/Cognition-And-Vision-Amsterdam-CAVA/UvA2024NeuroAI/blob/main/TutorialDay7_RL2.ipynb\" target=\"_parent\"><img src=\"https://colab.research.google.com/assets/colab-badge.svg\" alt=\"Open In Colab\"/></a>"
      ]
    },
    {
      "cell_type": "markdown",
      "id": "e03a43cb18ffa1ab",
      "metadata": {
        "id": "e03a43cb18ffa1ab"
      },
      "source": [
        "# Tutorial 7: Cognitive maps in brains and models\n",
        "\n",
        "To navigate the world, animals must learn cognitive maps of their environment, and keep track of their position in it. In this tutorial you will learn how networks of neurons can achieve this feat. More specifically, you will find out how attractor networks perform path integration.\n",
        "\n",
        "We'll start by plotting the activity of some real rodent neurons, recorded in entorhinal cortex while the animal explores an arena, to get a feeling for the spatial representations that exist in the brain. We'll then build an idealised continuous attractor network, that is designed to use such represenations to keep track of where the agent is. But the weights of our attractor network have been set up to do exactly that - how would you actually learn those weights? To find out, we'll train a recurrent neural network to learn to path integrate from scratch. And maybe, if we open up our trained network, we'll find that it has learned similar representations to the continuous attractor network that we started off with...\n",
        "\n",
        "The tutorial is structured as follows:\n",
        "1. **Spatial neural responses, real and simulated**\n",
        "    - Goals: explore real rodent spatial representations; understand plots of firing rate through space and time.\n",
        "    - Exercises: plot neural recordings; simulate trajectories and plot simulated responses.\n",
        "2. **Path integration in continuous attractor networks**\n",
        "    - Goals: learn how continuous attractor networks implement path integration; understand the details of weights and activities; find out how these produce cell responses and locations estimates.\n",
        "    - Excercises: build continuous attractor network with appropriate weights and update equations; plot action-dependent weights and transitions; find out how activity moves around.\n",
        "3. **A recurrent neural network that learns to path integrate**\n",
        "    - Goals: find out how the weights in (2) can be learned, rather than hand-coded; learn how to train a vanilla recurrent neural network to carry out path integration.\n",
        "    - Excercises: build a neural network and train it on path integration; implement learnable weights, recurrent dynamics, prediction loss, and the training loop; plot the performance of the resulting model.\n",
        "4. **Learned representions in trained and ideal networks**\n",
        "    - Goals: discover the represenations of the trained network; learn how the trained network manages to path-integrate, and find its similarities to the continuous attractor network.\n",
        "    - Exercises: open up the trained network and plot its representations; compare learned weights and transitions to continuous attractor network; investigate what the dynamics of the learned network look like\n",
        "\n",
        "This tutorial is in large part built on [NeuralPlayground](https://github.com/SainsburyWellcomeCentre/NeuralPlayground), a library for exploring models of hippocampus and entorhinal cortex. The tutorial has been inspired by, and borrows bits of code from, the [notebook](https://github.com/ganguli-lab/grid-pattern-formation/blob/master/inspect_model.ipynb) and [paper](https://www.cell.com/neuron/pdf/S0896-6273(22)00907-2.pdf) by Sorscher et al. in Neuron 2023. It also implements methods from the [paper](https://journals.plos.org/ploscompbiol/article?id=10.1371/journal.pcbi.1000291) by Burat and Fiete in PLOS Biology 2009.\n",
        "\n",
        "The tutorial was developed by Rodrigo Carrasco Davis, Jacob Bakermans, and James Whittington. Feel free to re-use, or get in touch with questions!"
      ]
    },
    {
      "cell_type": "markdown",
      "source": [
        "#0. **Setup**\n"
      ],
      "metadata": {
        "id": "H4his19QcqmU"
      },
      "id": "H4his19QcqmU"
    },
    {
      "cell_type": "code",
      "source": [
        "!git clone --branch neuroai_tutorial https://github.com/SainsburyWellcomeCentre/NeuralPlayground\n",
        "%cd NeuralPlayground\n",
        "!pip install -e .[dev]\n",
        "\n",
        "# This will take ~5 minutes"
      ],
      "metadata": {
        "collapsed": true,
        "id": "nNrqalhrckEF"
      },
      "id": "nNrqalhrckEF",
      "execution_count": null,
      "outputs": []
    },
    {
      "cell_type": "code",
      "execution_count": null,
      "id": "116ace61ba8ae0da",
      "metadata": {
        "ExecuteTime": {
          "end_time": "2024-06-16T19:18:48.177572Z",
          "start_time": "2024-06-16T19:18:48.138528Z"
        },
        "id": "116ace61ba8ae0da"
      },
      "outputs": [],
      "source": [
        "%load_ext autoreload\n",
        "%autoreload 2\n",
        "\n",
        "import matplotlib.pyplot as plt\n",
        "import numpy as np\n",
        "import torch\n",
        "from tqdm import tqdm\n",
        "from mpl_toolkits.mplot3d import Axes3D\n",
        "import os\n",
        "import pickle\n",
        "import matplotlib as mpl\n",
        "import scipy\n",
        "import copy as cp\n",
        "np.random.seed(0)\n",
        "\n",
        "# Use GPU if available\n",
        "device = torch.device(\"cuda\" if torch.cuda.is_available() else \"cpu\")"
      ]
    },
    {
      "cell_type": "code",
      "execution_count": null,
      "id": "d661d97576167061",
      "metadata": {
        "ExecuteTime": {
          "end_time": "2024-06-16T18:52:54.653079Z",
          "start_time": "2024-06-16T18:52:53.902728Z"
        },
        "id": "d661d97576167061"
      },
      "outputs": [],
      "source": [
        "from neuralplayground.experiments import Sargolini2006Data\n",
        "from neuralplayground.agents import TrajectoryGenerator, Burak2009, Sorscher2022exercise, SorscherIdealRNN\n",
        "from neuralplayground.utils import PlaceCells, get_2d_sort\n",
        "from neuralplayground.plotting import plot_trajectory_place_cells_activity, plot_ratemaps, compute_ratemaps\n",
        "from neuralplayground.config import load_plot_config\n",
        "load_plot_config()"
      ]
    },
    {
      "cell_type": "markdown",
      "id": "a3cdfc9ac9e54dfd",
      "metadata": {
        "id": "a3cdfc9ac9e54dfd"
      },
      "source": [
        "# 1. **Spatial responses, real and simulated**"
      ]
    },
    {
      "cell_type": "markdown",
      "source": [
        "## 1.1 Real grid cells\n",
        "Before doing anything else, run the code block below to download the dataset of single neuron responses during spatial navigation - the download takes about 5 minutes."
      ],
      "metadata": {
        "id": "T3MvgDdNgJLs"
      },
      "id": "T3MvgDdNgJLs"
    },
    {
      "cell_type": "code",
      "execution_count": null,
      "id": "b57b1e90eb1d6e4",
      "metadata": {
        "ExecuteTime": {
          "end_time": "2024-06-16T18:52:55.975875Z",
          "start_time": "2024-06-16T18:52:54.654367Z"
        },
        "id": "b57b1e90eb1d6e4"
      },
      "outputs": [],
      "source": [
        "# Download dataset. Takes ~5 min\n",
        "sargolini_data = Sargolini2006Data(verbose=False)"
      ]
    },
    {
      "cell_type": "markdown",
      "source": [
        "The dataset that we will be exploring was collected as part of *Sargolini, Francesca, et al. \"Conjunctive representation of position, direction, and velocity in entorhinal cortex.\" Science 312.5774 (2006): 758-762*. In this experiment, the authors record from the medial entorhinal cortex of a rat that explores a 2D arena. The data consists of the (x,y) position of the animal at regular time steps t, and list of timestamps of spikes for a bunch of neurons.\n",
        "\n",
        "Start by plotting the spikes of all neurons through time. Plot time on the x-axis, neurons as lines on the y-axis, with a dot for each spike (or in other words: plot a dot for each spike at coordinate (spike_time, spike_neuron)). That's called a raster plot."
      ],
      "metadata": {
        "id": "gTz760tkgjnb"
      },
      "id": "gTz760tkgjnb"
    },
    {
      "cell_type": "code",
      "source": [
        "# Get recorded cells from one particular session\n",
        "session_data = sargolini_data.get_recording_data(recording_index=4)[0]\n",
        "# Extract tracked x,y position of the rat\n",
        "x = session_data['position']['posx']\n",
        "y = session_data['position']['posy']\n",
        "# Get time points that match the x,y position\n",
        "t = session_data['position']['post']\n",
        "# Get labels for all neurons measured in this session\n",
        "neurons = [k for k in session_data.keys() if k not in ['EEG', 'EGF', 'position']]\n",
        "# Collect time stamps of spikes for those neurons in a list\n",
        "spikes = [session_data[n] for n in neurons]\n",
        "\n",
        "# Exercise: make a raster plot"
      ],
      "metadata": {
        "id": "3RHMDf1Ygcr9"
      },
      "id": "3RHMDf1Ygcr9",
      "execution_count": null,
      "outputs": []
    },
    {
      "cell_type": "code",
      "source": [
        "# @title Solution\n",
        "# Exercise: make a raster plot\n",
        "plt.figure()\n",
        "for i, s in enumerate(spikes):\n",
        "  plt.scatter(s, np.ones_like(s) * i, marker='.', color=[0,0,0])\n",
        "plt.xlabel('Time (s)')\n",
        "plt.ylabel('Neurons')\n",
        "plt.yticks(np.arange(len(neurons)), neurons);"
      ],
      "metadata": {
        "cellView": "form",
        "id": "r35_B2mEX2gn"
      },
      "id": "r35_B2mEX2gn",
      "execution_count": null,
      "outputs": []
    },
    {
      "cell_type": "markdown",
      "source": [
        "Now select one neuron and plot the rat's trajectory throught the arena, with a dot at the rat's location whenever that neuron spikes. That gives a rough idea where the neuron likes to fire."
      ],
      "metadata": {
        "id": "l8vNlfAFmRwQ"
      },
      "id": "l8vNlfAFmRwQ"
    },
    {
      "cell_type": "code",
      "source": [
        "# Exercise: plot trajectory + spikes"
      ],
      "metadata": {
        "id": "TzxPvLLAmjQX"
      },
      "id": "TzxPvLLAmjQX",
      "execution_count": null,
      "outputs": []
    },
    {
      "cell_type": "code",
      "source": [
        "# @title Solution\n",
        "# Exercise: plot trajectory + spikes\n",
        "plt.figure()\n",
        "plt.plot(x,y, 'k--')\n",
        "spike_index = [np.array([(np.abs(t - s_i)).argmin() for s_i in s]) for s in spikes]\n",
        "plt.scatter(x[spike_index[0]], y[spike_index[0]])\n",
        "plt.xlim([-50,50])\n",
        "plt.ylim([-50,50])\n",
        "ax = plt.gca()\n",
        "ax.set_aspect('equal');"
      ],
      "metadata": {
        "cellView": "form",
        "id": "Xg0En7jlYGAX"
      },
      "id": "Xg0En7jlYGAX",
      "execution_count": null,
      "outputs": []
    },
    {
      "cell_type": "markdown",
      "source": [
        "To make this spatial response map of a single neuron more quantitative, it is common to plot *rate maps*. A ratemap divides the environment into bins, and for each bin plots the average firing rate of the neuron while the animal is in that bin.\n",
        "\n",
        "Advanced: calculate rate maps for the cells we have here.\n",
        "\n",
        "Alternatively: simply use the provided dataset object to get a ratemap, then plot it."
      ],
      "metadata": {
        "id": "oAUvS_hrmmOw"
      },
      "id": "oAUvS_hrmmOw"
    },
    {
      "cell_type": "code",
      "source": [
        "# Optional exercise: calculate rate map\n",
        "\n",
        "# Alternatively, plot ratemap with provided library function\n",
        "rate_map, x_bin, y_bin = sargolini_data.plot_recording_tetr(recording_index=4, tetrode_id=neurons[0])"
      ],
      "metadata": {
        "id": "FaU1ZzGSkX_3"
      },
      "id": "FaU1ZzGSkX_3",
      "execution_count": null,
      "outputs": []
    },
    {
      "cell_type": "markdown",
      "source": [
        "Advanced: how would you define whether from a cell's rate map whether this cell is a grid cell? Can you quantify the 'gridness' of a neuron, to find the prettiest grid cells in all of the dataset? How would you do significance testing on your gridness score?"
      ],
      "metadata": {
        "id": "lLgOWWX9ideH"
      },
      "id": "lLgOWWX9ideH"
    },
    {
      "cell_type": "code",
      "source": [
        "# Advanced exercise: calculate a 'grid score' that quantifies grid cell quality"
      ],
      "metadata": {
        "id": "1UjT8Ren137i"
      },
      "id": "1UjT8Ren137i",
      "execution_count": null,
      "outputs": []
    },
    {
      "cell_type": "markdown",
      "id": "9c1b80b842fe5b74",
      "metadata": {
        "id": "9c1b80b842fe5b74"
      },
      "source": [
        "## 1.2 Simulated place cells\n",
        "To run simulations of spatial representations, we need synthetic neurons and trajectories just like the real ones that we just saw. We'll set them up in this section. First, set some parameters for these simulated neurons and trajectories."
      ]
    },
    {
      "cell_type": "code",
      "execution_count": null,
      "id": "c21b406a5719450e",
      "metadata": {
        "ExecuteTime": {
          "end_time": "2024-06-16T18:52:56.264865Z",
          "start_time": "2024-06-16T18:52:56.228115Z"
        },
        "id": "c21b406a5719450e"
      },
      "outputs": [],
      "source": [
        "# Arena dimensions\n",
        "room_width = 2.2\n",
        "room_depth = 2.2\n",
        "\n",
        "# Trajectory parameters\n",
        "sequence_length = 300\n",
        "batch_size = 4\n",
        "\n",
        "# Place cells parameters\n",
        "n_place_cells = 512\n",
        "place_cell_rf = 0.12\n",
        "surround_scale = 2.0\n",
        "periodic = False\n",
        "difference_of_gaussians = True"
      ]
    },
    {
      "cell_type": "markdown",
      "id": "f1cde52ae9c3b88b",
      "metadata": {
        "id": "f1cde52ae9c3b88b"
      },
      "source": [
        "Now generate a population of place cells."
      ]
    },
    {
      "cell_type": "code",
      "execution_count": null,
      "id": "4ab77f78297cfada",
      "metadata": {
        "ExecuteTime": {
          "end_time": "2024-06-16T18:52:56.488826Z",
          "start_time": "2024-06-16T18:52:56.266365Z"
        },
        "id": "4ab77f78297cfada"
      },
      "outputs": [],
      "source": [
        "# Create a population of simulated place cells with the parameters above\n",
        "place_cells = PlaceCells(Np=n_place_cells,\n",
        "                         place_cell_rf=place_cell_rf,\n",
        "                         surround_scale=surround_scale,\n",
        "                         room_width=room_width,\n",
        "                         room_depth=room_depth,\n",
        "                         periodic=periodic,\n",
        "                         DoG=difference_of_gaussians,\n",
        "                         device=device)"
      ]
    },
    {
      "cell_type": "markdown",
      "id": "85e3ec7ce3e0b666",
      "metadata": {
        "id": "85e3ec7ce3e0b666"
      },
      "source": [
        "Set up a trajectory generator and produce one simulated trajectory."
      ]
    },
    {
      "cell_type": "code",
      "execution_count": null,
      "id": "39a66cd5aaa13013",
      "metadata": {
        "ExecuteTime": {
          "end_time": "2024-06-16T18:52:56.588629Z",
          "start_time": "2024-06-16T18:52:56.490648Z"
        },
        "id": "39a66cd5aaa13013"
      },
      "outputs": [],
      "source": [
        "# Create a generator to sample simulated trajectories with the parameters above\n",
        "generator = TrajectoryGenerator(sequence_length, batch_size, room_width, room_depth, device, place_cells=place_cells)\n",
        "traj = generator.generate_trajectory(room_width, room_depth, batch_size)\n",
        "# Print the contents of the generated trajectory\n",
        "for key in traj.keys():\n",
        "    print(key, traj[key].shape)\n",
        "# Get the positions\n",
        "x, y = traj[\"target_x\"], traj[\"target_y\"]\n"
      ]
    },
    {
      "cell_type": "markdown",
      "source": [
        "Plot the trajectories that we've just generated."
      ],
      "metadata": {
        "id": "31tDZLjQ7WIp"
      },
      "id": "31tDZLjQ7WIp"
    },
    {
      "cell_type": "code",
      "execution_count": null,
      "id": "57364d280bbb1653",
      "metadata": {
        "ExecuteTime": {
          "end_time": "2024-06-16T18:52:56.968818Z",
          "start_time": "2024-06-16T18:52:56.622152Z"
        },
        "id": "57364d280bbb1653"
      },
      "outputs": [],
      "source": [
        "# Plotting options\n",
        "plot_n_trajectories = batch_size\n",
        "figure_size = (8, 8)\n",
        "line_width = 2.5\n",
        "marker_size = 150\n",
        "\n",
        "# Plot trajectories\n",
        "fig, ax = plt.subplots(1, 1, figsize=figure_size)\n",
        "for i in range(plot_n_trajectories):\n",
        "    init_x = traj[\"init_x\"][i]\n",
        "    init_y = traj[\"init_y\"][i]\n",
        "    ax.plot(x[i, :], y[i, :], label=f\"Trajectory {i}\", linewidth=line_width)\n",
        "    ax.scatter(init_x, init_y, color=f\"C{i}\", marker=\"o\", s=marker_size)\n",
        "ax.set_xlabel(\"Pos x [m]\")\n",
        "ax.set_ylabel(\"Pos y [m]\")\n",
        "ax.set_title(\"Simulated trajectories\")\n",
        "# Putting the legend outside the plot\n",
        "plt.legend(bbox_to_anchor=(1.05, 1), loc='upper left')"
      ]
    },
    {
      "cell_type": "markdown",
      "source": [
        "Now we'll simulate neural activity given the population of synthetic place cells, and the simulated trajectories."
      ],
      "metadata": {
        "id": "nYx5T2IP72u6"
      },
      "id": "nYx5T2IP72u6"
    },
    {
      "cell_type": "code",
      "execution_count": null,
      "id": "b54c9e80865fc4f1",
      "metadata": {
        "ExecuteTime": {
          "end_time": "2024-06-16T18:52:57.157999Z",
          "start_time": "2024-06-16T18:52:56.969872Z"
        },
        "id": "b54c9e80865fc4f1"
      },
      "outputs": [],
      "source": [
        "# Select one trajectory to plot\n",
        "trajectory_id = 2\n",
        "trajectory = np.stack([x[trajectory_id, :], y[trajectory_id, :]], axis=1)\n",
        "\n",
        "# Get place cell activity for each trajectory\n",
        "pc_inputs, position, pc_outputs = generator.get_test_batch(traj=traj)\n",
        "# Get center of place field for simulated neurons\n",
        "place_cells_positions = place_cells.get_place_cell_positions()\n",
        "# Get firing rates along the current trajectory\n",
        "pc_rates_trajectories = pc_outputs[:, trajectory_id, :].detach().cpu().numpy().T"
      ]
    },
    {
      "cell_type": "markdown",
      "source": [
        "Notice how we are now no longer working with discrete spikes, that can occur at any time stamp, but instead we have continuous firing rates for all our cells at regular time steps. This is a much more convenient way of representing neuronal data, because it gives neat rectangular matrices, but of course an abstraction - we are basically discarding fine-grained temporal structure. Let's plot the continuous equivalent of the discrete raster plot that we made for the real neurons, but now for the firing rates of our simulated neurons. Plot neurons on rows with time along the x-axis, but now with a continuous firing rate signal, rather than dots to represent discrete spikes."
      ],
      "metadata": {
        "id": "xOUoTYlE-gws"
      },
      "id": "xOUoTYlE-gws"
    },
    {
      "cell_type": "code",
      "source": [
        "# Exercise: plot continuous raster plot (assume each step takes 0.1s)\n",
        "# Only include the first 20 cells so it remains somewhat readable"
      ],
      "metadata": {
        "id": "EuhMJk0M8DW7"
      },
      "id": "EuhMJk0M8DW7",
      "execution_count": null,
      "outputs": []
    },
    {
      "cell_type": "code",
      "source": [
        "# @title Solution\n",
        "# Exercise: plot continuous raster plot (assume each step takes 0.1s)\n",
        "# Only include the first 20 cells so it remains somewhat readable\n",
        "n_plot = 20\n",
        "plt.figure()\n",
        "for i, r in enumerate(pc_rates_trajectories[:20]):\n",
        "  plt.plot(np.arange(sequence_length)*0.1, i + r/np.max(pc_rates_trajectories[:20]), 'k')\n",
        "plt.xlabel('Time (s)')\n",
        "plt.ylabel('Neurons')"
      ],
      "metadata": {
        "cellView": "form",
        "id": "FITuLJjlZk1A"
      },
      "id": "FITuLJjlZk1A",
      "execution_count": null,
      "outputs": []
    },
    {
      "cell_type": "markdown",
      "source": [
        "Advanced: also create a discrete raster plot for the same neurons by sampling from a poisson distribution with the given firing rate and time step duration."
      ],
      "metadata": {
        "id": "NJg-Ce0oSJj-"
      },
      "id": "NJg-Ce0oSJj-"
    },
    {
      "cell_type": "markdown",
      "source": [
        "Then also create the continous equivalent of the spikes-along-trajectory plot above: the firing rate of the cell at each location along the trajectory."
      ],
      "metadata": {
        "id": "jsSoBJhVDlby"
      },
      "id": "jsSoBJhVDlby"
    },
    {
      "cell_type": "code",
      "source": [
        "# Exercise: plot firing rate along trajectory for one cell\n",
        "# One way of solving this would be to scatter the trajectory positions,\n",
        "# with colour defined by firing rate, and a colormap that starts from white"
      ],
      "metadata": {
        "id": "h4AKyhdyD84W"
      },
      "id": "h4AKyhdyD84W",
      "execution_count": null,
      "outputs": []
    },
    {
      "cell_type": "code",
      "source": [
        "# @title Solution\n",
        "# Exercise: plot firing rate along trajectory for one cell\n",
        "# One way of solving this would be to scatter the trajectory positions,\n",
        "# with colour defined by firing rate, and a colormap that starts from white\n",
        "cell_plot=20\n",
        "plt.figure()\n",
        "plt.plot(trajectory[:,0], trajectory[:,1], 'k--')\n",
        "plt.scatter(trajectory[:,0], trajectory[:,1], c=-pc_rates_trajectories[cell_plot], cmap='Reds')\n",
        "plt.xlim([-1.2,1.2])\n",
        "plt.ylim([-1.2,1.2])\n",
        "ax = plt.gca()\n",
        "ax.set_aspect('equal', adjustable='box');"
      ],
      "metadata": {
        "cellView": "form",
        "id": "2iMMGmo7ZtJx"
      },
      "id": "2iMMGmo7ZtJx",
      "execution_count": null,
      "outputs": []
    },
    {
      "cell_type": "markdown",
      "source": [
        "We'll just do another plot to give you an idea of the activity of the whole simulated population. In the left subplot of this figure, each dot is one place cell. The dot indicates the place cell center (i.e. the location of the peak of the place cell's rate map), and we colour code the place cells by when they are activated along the simulated trajectory. We then plot the firing rates for these neurons through time in a continuous raster plot with matching colours."
      ],
      "metadata": {
        "id": "Aq0jdq26PUJB"
      },
      "id": "Aq0jdq26PUJB"
    },
    {
      "cell_type": "code",
      "execution_count": null,
      "id": "8fd92c06e004c5e",
      "metadata": {
        "ExecuteTime": {
          "end_time": "2024-06-16T18:52:57.774319Z",
          "start_time": "2024-06-16T18:52:57.223886Z"
        },
        "id": "8fd92c06e004c5e"
      },
      "outputs": [],
      "source": [
        "plot_n_cells = 100\n",
        "raster = True  # Make raster-like plot\n",
        "log_scale_activity = False\n",
        "\n",
        "f, (ax1, ax2) = plt.subplots(1, 2, figsize=(12, 6))\n",
        "ax1, ax2 = plot_trajectory_place_cells_activity(place_cells_center=place_cells_positions,\n",
        "                                                place_cell_activity=pc_rates_trajectories,\n",
        "                                                trajectory=trajectory,\n",
        "                                                ax1=ax1,\n",
        "                                                ax2=ax2,\n",
        "                                                plot_n_cells=plot_n_cells,\n",
        "                                                log_scale=log_scale_activity,\n",
        "                                                raster=raster)\n",
        "plt.tight_layout()\n",
        "plt.show()"
      ]
    },
    {
      "cell_type": "markdown",
      "source": [
        "And finally, we'll plot some rate maps for the simulated neurons"
      ],
      "metadata": {
        "id": "mZ121exsTXAE"
      },
      "id": "mZ121exsTXAE"
    },
    {
      "cell_type": "code",
      "execution_count": null,
      "id": "8b4c64e75aac77f8",
      "metadata": {
        "ExecuteTime": {
          "end_time": "2024-06-16T18:52:57.912811Z",
          "start_time": "2024-06-16T18:52:57.779542Z"
        },
        "id": "8b4c64e75aac77f8"
      },
      "outputs": [],
      "source": [
        "# Get place cells rate map\n",
        "pc_outputs_np = pc_outputs.reshape(-1, n_place_cells).detach().cpu().numpy()\n",
        "pc = place_cells.grid_pc(pc_outputs_np[::100], res=100)\n",
        "f, ax = plt.subplots(2, 6, figsize=(12, 5))\n",
        "ax = ax.flatten()\n",
        "for i in range(12):\n",
        "    ax[i].imshow(pc[i], cmap=\"jet\")\n",
        "    ax[i].axis(\"off\")\n",
        "plt.suptitle(\"Place cell rate maps\")\n",
        "plt.tight_layout()\n",
        "plt.show()"
      ]
    },
    {
      "cell_type": "markdown",
      "source": [
        "Together, this section should have given you some intuition for the kinds of representations that we find in the brain, and that our models will operate on. We'll need some of our simulated cells and trajectories later!"
      ],
      "metadata": {
        "id": "U21RcmVqVl3k"
      },
      "id": "U21RcmVqVl3k"
    },
    {
      "cell_type": "markdown",
      "source": [
        "# 2. **Path integration in continuous attractor networks**"
      ],
      "metadata": {
        "id": "mQq7nBO-Tqqh"
      },
      "id": "mQq7nBO-Tqqh"
    },
    {
      "cell_type": "markdown",
      "source": [
        "In this section we'll start exploring how networks of neurons can keep track of the agent's or animal's location in space. In other words, these networks need to path-integrate: given an initial position and a velocity signal, they need to update their representation to reflect the resulting new position. The networks that we consider have a very specific set of weights that make them attractor networks. They exhibit a stable 'bump' of activity without velocity input, and can shift the activity bump around when velocitiy comes in. We'll build some intuition of how they can achieve that, first with a simple 1D ring attractor, and then extending the same principles to 2D space."
      ],
      "metadata": {
        "id": "KvrVawtkIayi"
      },
      "id": "KvrVawtkIayi"
    },
    {
      "cell_type": "markdown",
      "source": [
        "## 2.1 1D ring attractor intuition"
      ],
      "metadata": {
        "id": "3QmoIOfcT30g"
      },
      "id": "3QmoIOfcT30g"
    },
    {
      "cell_type": "markdown",
      "source": [
        "Let's start by setting up our population of neurons for the 1D ring attractor."
      ],
      "metadata": {
        "id": "PfViMA37MWYS"
      },
      "id": "PfViMA37MWYS"
    },
    {
      "cell_type": "code",
      "source": [
        "# Number of neurons\n",
        "N = 100\n",
        "\n",
        "# Activation function of a single neuron\n",
        "def sigmoid(x):\n",
        "  return 1 / (1 + np.exp(-x))\n"
      ],
      "metadata": {
        "id": "WtFfpBDWPjoe"
      },
      "id": "WtFfpBDWPjoe",
      "execution_count": null,
      "outputs": []
    },
    {
      "cell_type": "markdown",
      "source": [
        "There are two things an attractor network needs to do. The first is that it needs to provide a stable representation the current position on the ring (e.g., head direction). The second is that it needs to be able to change that representation, depending on a velocity signal (e.g., rate of turning head).\n",
        "\n",
        "Things become a bit easier if we imagine these neurons actually being placed on a ring. They are not actually on a ring, but it's a conceptual trick that will make our lives easier. This conceptual arrangement is called a 'neural sheet'. So when a position on the ring is being represented, then the neurons at that position on the neural sheet will be active - a 'bump' of activity on the neural sheet!\n",
        "\n",
        "Here's the neural sheet:"
      ],
      "metadata": {
        "id": "En_cizJaQCM-"
      },
      "id": "En_cizJaQCM-"
    },
    {
      "cell_type": "code",
      "source": [
        "# Plot a little schematic of the neural sheet\n",
        "x = np.cos(0.5*np.pi - 2*np.pi/N*np.arange(N))\n",
        "y = np.sin(0.5*np.pi - 2*np.pi/N*np.arange(N))\n",
        "plt.figure();\n",
        "# Plot even neurons\n",
        "plt.scatter(x[0::2], y[0::2], c='r', label='clockwise')\n",
        "for xs, ys, dx, dy in zip(x[0::2], y[0::2], 0.5*(np.roll(x,-1)[0::2] - x[0::2]), 0.5*(np.roll(y,-1)[0::2] - y[0::2])):\n",
        "  plt.arrow(xs, ys, dx, dy, color='r', head_width=0.02)\n",
        "# Plot odd neurons. Decrease radius bit so they don't overlap\n",
        "x = x*0.95\n",
        "y = y*0.95\n",
        "plt.scatter(x[1::2], y[1::2], c='b', label='anticlockwise')\n",
        "for xs, ys, dx, dy in zip(x[1::2], y[1::2], 0.5*(np.roll(x,1)[1::2] - x[1::2]), 0.5*(np.roll(y,1)[1::2] - y[1::2])):\n",
        "  plt.arrow(xs, ys, dx, dy, color='b', head_width=0.02)\n",
        "ax = plt.gca()\n",
        "ax.set_aspect('equal');\n",
        "plt.legend(bbox_to_anchor=(1.05, 1), loc='upper left')"
      ],
      "metadata": {
        "id": "l95oQXokSjEu"
      },
      "id": "l95oQXokSjEu",
      "execution_count": null,
      "outputs": []
    },
    {
      "cell_type": "markdown",
      "source": [
        "You see that there are actually two populations of neurons, each arranged on the ring. This is becuause half of the neurons want to push the bump of activity clockwise, and half want to push it anticlockwise. Somehow this all needs to be comtrolled by an external velocity signal. Let's get a bit more formal and workout how this all works."
      ],
      "metadata": {
        "id": "jGBPSed2SkDq"
      },
      "id": "jGBPSed2SkDq"
    },
    {
      "cell_type": "markdown",
      "source": [
        "We'll need to think about the connection weights between these neurons to get a network that path integrates.\n",
        "\n",
        "To get it to sustain a stable activity bump in the absence of velocity input, we need neurons to excite other neurons near them, while inhibiting neurons further away. A good candidate function for the weights from neuron i to all other neurons j would therefore be $ \\cos(\\frac{2 \\pi (i - j)}{N} ) $. That would produce connectivity for neuron i that maximally excites neuron i itself and its neighbours, inhibits all neurons more than $ N/4 $ places away, and nicely wraps around the 1D ring.\n",
        "\n",
        "But additionally, we want positive velocity input to shift the activity clockwise, and negative velocity to shift the activity anticlockwise. To achieve that, we'll tweak the weights slightly: *even* neurons shift their excitation a bit to the right, i.e. $ \\cos(\\frac{2 \\pi (i - j + \\Delta)}{N} ) $, and *odd* neurons shift their excitation a bit to the left, i.e. $ \\cos(\\frac{2 \\pi (i - j - \\Delta)}{N} ) $. If the velocity input signal activates the even neurons for clockwise motion, and the odd neurons for anticlockwise motion, this type of connectivity will move the network activity accordingly.\n",
        "\n",
        "Write a N x N connectivity matrix $J$ that implements this pattern of connectivity for $\\Delta = 7$. We want to update activities $r$ by matrix multiplication $J * r$, so *row* i should hold weights *to* neuron i, and *column* i should hold weights *from* neuron i - in other words, $J_{ij}$ holds the weight *from* neuron j *to* neuron i."
      ],
      "metadata": {
        "id": "5ItJOq61P46P"
      },
      "id": "5ItJOq61P46P"
    },
    {
      "cell_type": "code",
      "source": [
        "# Exercise: define connectivity"
      ],
      "metadata": {
        "id": "-zcX9ttBP7QA"
      },
      "id": "-zcX9ttBP7QA",
      "execution_count": null,
      "outputs": []
    },
    {
      "cell_type": "code",
      "source": [
        "# @title Solution\n",
        "# Exercise: define connectivity\n",
        "delta = 7  # left-right bias\n",
        "s = np.arange(N)\n",
        "beta = delta * (-1)**s\n",
        "J = np.cos(2 * np.pi / N * (s[None] - s[:, None] + beta))"
      ],
      "metadata": {
        "id": "cHXRKUEka_AX"
      },
      "id": "cHXRKUEka_AX",
      "execution_count": null,
      "outputs": []
    },
    {
      "cell_type": "markdown",
      "source": [
        "To make sure the weights look like they should, let's plot them for two neighbouring neurons. Plot outgoing weights (so columns of $J$) for neuron 50 (even neuron, so should shift rightwards) and neuron 51 (odd neuron, so should shift rightwards)."
      ],
      "metadata": {
        "id": "njgmmWeeSDsC"
      },
      "id": "njgmmWeeSDsC"
    },
    {
      "cell_type": "code",
      "source": [
        "# Exercise: plot connectivity for a neighbouring left and right neuron\n"
      ],
      "metadata": {
        "id": "lKgpaY-KbJR7"
      },
      "id": "lKgpaY-KbJR7",
      "execution_count": null,
      "outputs": []
    },
    {
      "cell_type": "code",
      "source": [
        "# @title Solution\n",
        "# Exercise: plot connectivity for a neighbouring left and right neuron\n",
        "plt.plot(J[:,int(0.5*N)+0], label='clockwise', c='r')\n",
        "plt.axvline(x=int(0.5*N), c='r')\n",
        "plt.plot(J[:,int(0.5*N)+1], label='anticlockwise', c='b')\n",
        "plt.axvline(x=int(0.5*N)+1, c='b')\n",
        "plt.legend(bbox_to_anchor=(1.05, 1), loc='upper left')"
      ],
      "metadata": {
        "id": "8XRVF6qYSfeR",
        "cellView": "form"
      },
      "id": "8XRVF6qYSfeR",
      "execution_count": null,
      "outputs": []
    },
    {
      "cell_type": "markdown",
      "source": [
        "So with our weight matrix all set up, we can start simulating network dynamics. The update equation for our network unit activations is as follows: $ r_t = \\sigma(J * r_{t-1} + M * v_t + 1) $, where $\\sigma$ is the sigmoid activation that we defined before, $v_t$ is the velocity input, and $M$ indexes whether a neuron is a clockwise or anticlockwise neuron: $M_i=1$ if i is even, and $M_i=-1$ if i is odd. Effectively, this equation therefore implements the recurrent dynamics from our weight matrix $J$, and additionally inhibits one set (e.g. the clockwise) while exciting another set (e.g. the anticlockwise) depending on the input velocity $v_t$\n",
        "\n",
        "Start by simulating how the network settles into a stable bump of activity when initialised from random activation in absence of a velocity. Concretely: initialise the network with normally distributed random activations, and run the update equation for 1000 iterations with $v_t=0$. Store the activations of each timestep in a list.\n"
      ],
      "metadata": {
        "id": "BquezPotSm1J"
      },
      "id": "BquezPotSm1J"
    },
    {
      "cell_type": "code",
      "source": [
        "# Exercise: initialise and stabilise network"
      ],
      "metadata": {
        "id": "T-67NepCbSzF"
      },
      "id": "T-67NepCbSzF",
      "execution_count": null,
      "outputs": []
    },
    {
      "cell_type": "code",
      "source": [
        "# @title Solution\n",
        "# Exercise: initialise and stabilise network\n",
        "M  = (-1)**np.arange(N)\n",
        "r = np.random.randn(N)\n",
        "v = 0\n",
        "rs = []\n",
        "for _ in range(1000):\n",
        "    r = sigmoid(J @ r + M*v + 1)\n",
        "    rs.append(r)"
      ],
      "metadata": {
        "id": "CO2TQ2N8T7pk",
        "cellView": "form"
      },
      "id": "CO2TQ2N8T7pk",
      "execution_count": null,
      "outputs": []
    },
    {
      "cell_type": "code",
      "source": [
        "# Plot result (assumes rs contains activations across timesteps)\n",
        "plt.figure(figsize=(2,4))\n",
        "plt.imshow(np.stack(rs),aspect='auto');\n",
        "plt.ylabel('t')\n",
        "plt.xlabel('Neuron');\n",
        "plt.title('Activity bump')"
      ],
      "metadata": {
        "id": "Sqc-eZICbRec"
      },
      "id": "Sqc-eZICbRec",
      "execution_count": null,
      "outputs": []
    },
    {
      "cell_type": "markdown",
      "source": [
        "OK great it works!\n",
        "\n",
        "But we don't want to just represent on position on the ring, we want to be able to control that bump of activity. Simulate how the network responds to velocity input, by running the update equation for 10000 iterations with $v_t=2$, then 10000 iterations with $v_t=-2$.\n"
      ],
      "metadata": {
        "id": "kYKTaCGvHafW"
      },
      "id": "kYKTaCGvHafW"
    },
    {
      "cell_type": "code",
      "source": [
        "# Exercise: move the bump around with velocity input,\n",
        "# starting from the stable representation (r)"
      ],
      "metadata": {
        "id": "hTUPieWZberG"
      },
      "id": "hTUPieWZberG",
      "execution_count": null,
      "outputs": []
    },
    {
      "cell_type": "code",
      "source": [
        "# @title Solution\n",
        "# Exercise: move the bump around with velocity input,\n",
        "# starting from the stable representation (r)\n",
        "\n",
        "# Let's add a velocity signal going clockwise:\n",
        "v = 2\n",
        "rs = []\n",
        "for _ in range(10000):\n",
        "    r = sigmoid(J @ r + M*v + 1)\n",
        "    rs.append(r)\n",
        "\n",
        "# Then a velocity signal going anticlockwise\n",
        "v = -2\n",
        "for _ in range(10000):\n",
        "    r = sigmoid(J @ r + M*v + 1)\n",
        "    rs.append(r)"
      ],
      "metadata": {
        "id": "krJ2Rw_bHbF5",
        "cellView": "form"
      },
      "id": "krJ2Rw_bHbF5",
      "execution_count": null,
      "outputs": []
    },
    {
      "cell_type": "code",
      "source": [
        "# Plot result\n",
        "plt.figure(figsize=(2,4))\n",
        "plt.imshow(np.stack(rs),aspect='auto');\n",
        "plt.ylabel('t')\n",
        "plt.xlabel('Neuron');\n",
        "plt.title('Activity bump')"
      ],
      "metadata": {
        "id": "iNeN6qzmbhZj"
      },
      "id": "iNeN6qzmbhZj",
      "execution_count": null,
      "outputs": []
    },
    {
      "cell_type": "markdown",
      "source": [
        "Play around with this. Does the network always achieve a stable activity bump, or are there requirements for the initial activations? Change the velocity. Can you break the path integrator? Why does it break down?"
      ],
      "metadata": {
        "id": "ata7cW1lSw1h"
      },
      "id": "ata7cW1lSw1h"
    },
    {
      "cell_type": "markdown",
      "source": [
        "The activity of the whole network population at each time step is a 100-dimensional vector, because the network has 100 neurons. But you will have probably realised that the actual values that the entries of this vector can take are very constrained: throughout your simulations, you have only encountered very particular 100-dimensional activations. The network states occupy a low-dimensional _subspace_ of all possible 100-dimensional vectors: the dynamics are constrained to a low-dimensional _manifold_. What does this manifold look like? Do a dimensionality reduction using principal component analysis on the [time x neurons] activities that you have just simulated: project the data on the first two principal components to get a [time x 2] matrix, and plot the low-dimensional dynamics."
      ],
      "metadata": {
        "id": "aNAp9uNs4lO4"
      },
      "id": "aNAp9uNs4lO4"
    },
    {
      "cell_type": "code",
      "source": [
        "# Exercise: do a PCA on the simulated activities to see the manifold"
      ],
      "metadata": {
        "id": "fizZMBpliPvd"
      },
      "id": "fizZMBpliPvd",
      "execution_count": null,
      "outputs": []
    },
    {
      "cell_type": "code",
      "source": [
        "# @title Solution\n",
        "# Exercise: do a PCA to see the manifold\n",
        "from sklearn.decomposition import PCA\n",
        "pca = PCA(n_components=2)\n",
        "pca.fit(np.stack(rs))\n",
        "\n",
        "two_d = pca.transform(np.stack(rs))\n",
        "\n",
        "plt.figure()\n",
        "plt.scatter(*two_d.T)\n",
        "ax = plt.gca()\n",
        "ax.set_aspect('equal');\n",
        "plt.xlabel('PC 1')\n",
        "plt.ylabel('PC 2')"
      ],
      "metadata": {
        "id": "cbpbJmNS4khB",
        "cellView": "form"
      },
      "id": "cbpbJmNS4khB",
      "execution_count": null,
      "outputs": []
    },
    {
      "cell_type": "markdown",
      "source": [
        "## 2.2 2D conceptual: neural sheet and weights"
      ],
      "metadata": {
        "id": "y6mp6drjWIrU"
      },
      "id": "y6mp6drjWIrU"
    },
    {
      "cell_type": "markdown",
      "source": [
        "Ok we're ready to think about path integrating networks in 2D.\n",
        "\n",
        "Now rather than having a 1D ring neural sheet, we'll have a 2D neural sheet. Where every 'cluster' of 4 neurons on the sheet are a left/right/up/down neuron. Remember when we visualise the neural sheet, we're really looking at all the neurons activity a for just one particular position in space.\n",
        "\n",
        "Let's look at this neural sheet"
      ],
      "metadata": {
        "id": "glTr7o5zSxMk"
      },
      "id": "glTr7o5zSxMk"
    },
    {
      "cell_type": "code",
      "source": [
        "# Advanced exercise: Make a 2D neural sheet (just use the solution if you're low on time!)"
      ],
      "metadata": {
        "id": "fK0PFD_41EI7"
      },
      "id": "fK0PFD_41EI7",
      "execution_count": null,
      "outputs": []
    },
    {
      "cell_type": "code",
      "source": [
        "# @title Solution\n",
        "L = 24\n",
        "n_neurons = L**2\n",
        "\n",
        "# Get sheet locations\n",
        "grid_location = np.arange(L)\n",
        "sheet_locations = []\n",
        "for i in range(L):\n",
        "    for j in range(L):\n",
        "        sheet_locations.append(np.array([grid_location[i], grid_location[j]]))\n",
        "sheet_locations = np.stack(sheet_locations, axis=0)\n",
        "\n",
        "# Define velocity tuning for each neuron\n",
        "Mx = np.mod(sheet_locations[:, 1], 2)*((-1)**(sheet_locations[:, 0]))\n",
        "My = np.mod(sheet_locations[:, 1]+1, 2)*((-1)**(sheet_locations[:, 0]))\n",
        "Mixy = np.stack([Mx, My], axis=1)\n",
        "\n",
        "# Plot neural sheet\n",
        "f, ax = plt.subplots(1, 1, figsize=(6, 6))\n",
        "\n",
        "# First draw vertical lines for each neuron, such that the intersection correspondes to the neuron location, and put them behind the neurons\n",
        "for i in range(n_neurons):\n",
        "    ax.axvline(sheet_locations[i, 0], color=\"black\", linewidth=0.5, zorder=0, alpha=0.5)\n",
        "    ax.axhline(sheet_locations[i, 1], color=\"black\", linewidth=0.5, zorder=0, alpha=0.5)\n",
        "\n",
        "# Just colouring each neuron based on its velocity input weights\n",
        "colors = []\n",
        "colors_id = {(-1, 0): \"C0\", (1, 0): \"C1\", (0, -1): \"C2\", (0, 1): \"C3\"}\n",
        "for i in range(n_neurons):\n",
        "    colors.append(colors_id[(Mixy[i, 0], Mixy[i, 1])])\n",
        "ax.scatter(sheet_locations[:, 0], sheet_locations[:, 1], c=colors, s=50)\n",
        "# Draw small arrow for each neuron, pointing in the direction of Mixy\n",
        "arrow_size = 0.3\n",
        "for i in range(n_neurons):\n",
        "    ax.arrow(sheet_locations[i, 0], sheet_locations[i, 1], Mixy[i, 0]*arrow_size, Mixy[i, 1]*arrow_size, head_width=0.1, head_length=0.1, color=colors[i])\n",
        "\n",
        "# Adding a legend outside indicating direction based on the color\n",
        "for key, value in colors_id.items():\n",
        "    ax.scatter([], [], c=value, label=f\"Velocity input {key}\")\n",
        "ax.legend(bbox_to_anchor=(1.05, 1), loc='upper left')\n",
        "\n",
        "ax.set_xlabel(\"x position [p]\")\n",
        "ax.set_ylabel(\"y position [q]\")\n",
        "ax.set_title(\"Location in neural sheet\")"
      ],
      "metadata": {
        "id": "ra96CN43U0pf",
        "cellView": "form"
      },
      "id": "ra96CN43U0pf",
      "execution_count": null,
      "outputs": []
    },
    {
      "cell_type": "markdown",
      "source": [
        "OK it's time to play the same game as before. I.e. make each neuron's connectivity be slightly shifted to the left, right, up, or down... depending on whether they are labelled a left, right, up, or down neuron.\n",
        "\n",
        "This time we want to get grid cells so we'll define the connecticity to be periodic like a grid cell!\n",
        "\n",
        "For each neuron it'll be:\n",
        "$J_{ij} = \\sum_a \\cos (\\frac{2*\\pi}{L} k_a \\cdot (s_i - s_j - \\beta_j)$, where $k_a$ are wavevectors for the three cardinal directions of gird cells (0,60,120), $s_i$ is the position on the sheet of neuron i, and $beta_j$ is an offset depending on whether the neuron is a left/right/up/down neuron.\n",
        "\n",
        "We're not going to get you to code this bit up, but just have a look and try to understand why things look the way they do!"
      ],
      "metadata": {
        "id": "QPJhxQQUW7yA"
      },
      "id": "QPJhxQQUW7yA"
    },
    {
      "cell_type": "code",
      "source": [
        "# Advanced exercise: code this up, and plot the connectivity for neighbouring up/down/left/right neurons.\n",
        "\n",
        "# (just use the solution if you're low on time!)"
      ],
      "metadata": {
        "id": "H8Bq20Wr2Ip0"
      },
      "id": "H8Bq20Wr2Ip0",
      "execution_count": null,
      "outputs": []
    },
    {
      "cell_type": "code",
      "source": [
        "# @title Solution\n",
        "N = L\n",
        "\n",
        "def sigmoid(x):\n",
        "  return 1 / (1 + np.exp(-x))\n",
        "\n",
        "# Get sheet positions\n",
        "delta = 3*N/100  # up/down/left/right bias\n",
        "s = np.arange(N)\n",
        "x, y = np.meshgrid(s, s)\n",
        "x = x.flatten()\n",
        "y = y.flatten()\n",
        "\n",
        "# Determining whether it's a left/righ/up/down neuron\n",
        "M_x = np.mod(y, 2) * (-1)**x\n",
        "M_y = np.mod(y+1, 2) * (-1)**x\n",
        "\n",
        "# now we define the connectivity to have a shifted grid-like pattern...\n",
        "k1 = [np.cos(0*np.pi/3), np.sin(0*np.pi/3)]\n",
        "k2 = [np.cos(1*np.pi/3), np.sin(1*np.pi/3)]\n",
        "k3 = [np.cos(2*np.pi/3), np.sin(2*np.pi/3)]\n",
        "c = 2 * 2 * np.pi / N\n",
        "delta_x = x[:, None] - x[None] - delta * M_x[None]\n",
        "delta_y = y[:, None] - y[None] - delta * M_y[None]\n",
        "J = np.cos(c * (k1[0] * delta_x + k1[1] * delta_y)) + \\\n",
        "    np.cos(c * (k2[0] * delta_x + k2[1] * delta_y)) + \\\n",
        "    np.cos(c * (k3[0] * delta_x + k3[1] * delta_y))\n",
        "\n",
        "plt.figure(figsize=(12, 3))\n",
        "color = 'k'\n",
        "size = 2\n",
        "loc_x = int(N/2)\n",
        "loc_y = int(N/2)-1\n",
        "p = loc_y * N + loc_x\n",
        "plt.subplot(1,4,1)\n",
        "plt.imshow(np.reshape(J[:,p+0], (N,N)))\n",
        "plt.scatter(loc_x,loc_y, c=color, s=size)\n",
        "plt.title('Right')\n",
        "plt.subplot(1,4,2)\n",
        "plt.imshow(np.reshape(J[:,p+1], (N,N)))\n",
        "plt.scatter(loc_x+1,loc_y, c=color, s=size)\n",
        "plt.title('Left')\n",
        "plt.subplot(1,4,3)\n",
        "plt.imshow(np.reshape(J[:,p+N], (N,N)))\n",
        "plt.scatter(loc_x,loc_y+1, c=color, s=size)\n",
        "plt.title('Down')\n",
        "plt.subplot(1,4,4)\n",
        "plt.imshow(np.reshape(J[:,p+N+1], (N,N)))\n",
        "plt.scatter(loc_x+1,loc_y+1, c=color, s=size)\n",
        "plt.title('Up')"
      ],
      "metadata": {
        "id": "T5N_Pk7BWMaI",
        "cellView": "form"
      },
      "id": "T5N_Pk7BWMaI",
      "execution_count": null,
      "outputs": []
    },
    {
      "cell_type": "markdown",
      "source": [
        "Hopefully you can see two things:\n",
        "\n",
        "First, because the connectivity has a grid like pattern, there won't just be one bump of activity at any time, there will be many. And they will be in a grid pattern (as neurons try to excite other neurons that are grid-cell like vectors away). This is what get's grid cells.\n",
        "\n",
        "Second, that these bumps of activity get pushed around by the shifted connectivity matrices, i.e.. the right neurons will try to push activity to the right and so on.\n",
        "\n",
        "So this should mean we're ready to build a 2D attractor network\n",
        "\n"
      ],
      "metadata": {
        "id": "Hvjey493bYyq"
      },
      "id": "Hvjey493bYyq"
    },
    {
      "cell_type": "markdown",
      "id": "cef91bcad420d037",
      "metadata": {
        "id": "cef91bcad420d037"
      },
      "source": [
        "## 2.3 Path integrate Ideal RNN\n",
        "\n",
        "So actually building an attractor that path integrates in 2D can be a bit finickity... So we're going to give you access to the original grid cell model by Burak and Fiete from *Burak, Yoram, and Ila R. Fiete. \"Accurate path integration in continuous attractor network models of grid cells.\" PLoS computational biology 5.2 (2009): e1000291.*"
      ]
    },
    {
      "cell_type": "code",
      "execution_count": null,
      "id": "1681ceba55dd3af8",
      "metadata": {
        "ExecuteTime": {
          "end_time": "2024-06-16T18:52:59.261236Z",
          "start_time": "2024-06-16T18:52:59.220970Z"
        },
        "id": "1681ceba55dd3af8"
      },
      "outputs": [],
      "source": [
        "n_neurons = 2**7\n",
        "ideal_RNN = Burak2009(n_neurons=n_neurons, compute_sorscher_weights=False)\n",
        "# help(Burak2009)\n",
        "\n",
        "periodic_grid_cell = ideal_RNN.ideal_grid_cells(periodic_boundary = True)"
      ]
    },
    {
      "cell_type": "markdown",
      "source": [
        "Let's look at the activity of neurons on the neural sheet, and zoom into a unit square that we'll keep looking at"
      ],
      "metadata": {
        "id": "sf6NfW3cAx41"
      },
      "id": "sf6NfW3cAx41"
    },
    {
      "cell_type": "code",
      "execution_count": null,
      "id": "3873d2f541ccf4e0",
      "metadata": {
        "ExecuteTime": {
          "end_time": "2024-06-16T18:53:06.686066Z",
          "start_time": "2024-06-16T18:53:06.425931Z"
        },
        "id": "3873d2f541ccf4e0"
      },
      "outputs": [],
      "source": [
        "f, ax = plt.subplots(1, 2, figsize=(8, 4))\n",
        "\n",
        "ax[0].imshow(periodic_grid_cell, cmap=\"jet\")\n",
        "ax[0].axis(\"off\")\n",
        "ax[0].set_title(\"Neural sheet activity\")\n",
        "\n",
        "square_center = 80, 74\n",
        "half_square_size = 20\n",
        "# Draw a red square around square center of size 40 by 40\n",
        "ax[0].plot(\n",
        "    [square_center[1]-half_square_size, square_center[1]-half_square_size, square_center[1]+half_square_size, square_center[1]+half_square_size, square_center[1]-half_square_size],\n",
        "    [square_center[0]-half_square_size, square_center[0]+half_square_size, square_center[0]+half_square_size, square_center[0]-half_square_size, square_center[0]-half_square_size],\n",
        "            color=\"red\", linewidth=2)\n",
        "\n",
        "# Imshow the activity of the grid cell just within the square\n",
        "ax[1].imshow(periodic_grid_cell[square_center[0]-half_square_size:square_center[0]+half_square_size,\n",
        "                                square_center[1]-half_square_size:square_center[1]+half_square_size], cmap=\"jet\")\n",
        "ax[1].axis(\"off\")\n",
        "ax[1].set_title(\"Zoomed\")"
      ]
    },
    {
      "cell_type": "markdown",
      "id": "83513554cd186ac2",
      "metadata": {
        "id": "83513554cd186ac2"
      },
      "source": [
        "Now let's see how the activity of the neurons in this region of the neural sheet change when moving right"
      ]
    },
    {
      "cell_type": "code",
      "execution_count": null,
      "id": "852b822b670b787f",
      "metadata": {
        "ExecuteTime": {
          "end_time": "2024-06-16T18:53:20.147153Z",
          "start_time": "2024-06-16T18:53:06.687465Z"
        },
        "id": "852b822b670b787f"
      },
      "outputs": [],
      "source": [
        "n_steps = 10\n",
        "inner_steps = 800  # Since dt = 0.5ms, these are 400ms\n",
        "velocity_size = 0.1  # 1cm/s\n",
        "\n",
        "f, ax = plt.subplots(2, 5, figsize=(5*n_steps//2, 4*2))\n",
        "ax = ax.flatten()\n",
        "\n",
        "neuron_response = cp.deepcopy(periodic_grid_cell)\n",
        "time = 0\n",
        "for i in range(n_steps):\n",
        "    neuron_response = ideal_RNN.update_rate_map(headDirection=np.zeros(inner_steps), # Head direction is in radians, so this is moving to the right\n",
        "                                                velocity=np.ones(inner_steps)*0.01,\n",
        "                                                grid_cell_rate=neuron_response)\n",
        "    ax[i].imshow(neuron_response[square_center[0]-half_square_size:square_center[0]+half_square_size,\n",
        "                                 square_center[1]-half_square_size:square_center[1]+half_square_size], cmap=\"jet\")\n",
        "    ax[i].set_title(f\"{time} ms, {velocity_size} cm/s, right\")\n",
        "    time += ideal_RNN.time_step_dt*inner_steps\n",
        "    ax[i].axis(\"off\")\n",
        "plt.tight_layout()\n",
        "plt.show()"
      ]
    },
    {
      "cell_type": "markdown",
      "id": "4efeb6b063bcb90b",
      "metadata": {
        "id": "4efeb6b063bcb90b"
      },
      "source": [
        "And now moving up"
      ]
    },
    {
      "cell_type": "code",
      "execution_count": null,
      "id": "a53b64a0a1e25709",
      "metadata": {
        "ExecuteTime": {
          "end_time": "2024-06-16T18:53:33.627258Z",
          "start_time": "2024-06-16T18:53:20.148328Z"
        },
        "id": "a53b64a0a1e25709"
      },
      "outputs": [],
      "source": [
        "n_steps = 10\n",
        "inner_steps = 800  # Since dt = 0.5ms, these are 400ms\n",
        "velocity_size = 0.01  # 1cm/s\n",
        "\n",
        "f, ax = plt.subplots(2, 5, figsize=(5*n_steps//2, 4*2))\n",
        "ax = ax.flatten()\n",
        "\n",
        "neuron_response = cp.deepcopy(periodic_grid_cell)\n",
        "time = 0\n",
        "for i in range(n_steps):\n",
        "    neuron_response = ideal_RNN.update_rate_map(headDirection=np.ones(inner_steps)*np.pi/2, # Head direction is in radians, so this is moving up\n",
        "                                                velocity=np.ones(inner_steps)*0.01,\n",
        "                                                grid_cell_rate=neuron_response)\n",
        "    ax[i].imshow(neuron_response[square_center[0]-half_square_size:square_center[0]+half_square_size,\n",
        "                                 square_center[1]-half_square_size:square_center[1]+half_square_size], cmap=\"jet\")\n",
        "    ax[i].set_title(f\"{time} ms, {velocity_size} cm/s up\", loc=\"right\")\n",
        "    time += ideal_RNN.time_step_dt*inner_steps\n",
        "    ax[i].axis(\"off\")\n",
        "plt.tight_layout()\n",
        "plt.show()"
      ]
    },
    {
      "cell_type": "markdown",
      "id": "4eca3a7865ea5b99",
      "metadata": {
        "id": "4eca3a7865ea5b99"
      },
      "source": [
        "And now let's look at all directions"
      ]
    },
    {
      "cell_type": "code",
      "execution_count": null,
      "id": "507a7c7fb3244a1f",
      "metadata": {
        "ExecuteTime": {
          "end_time": "2024-06-16T18:53:44.347725Z",
          "start_time": "2024-06-16T18:53:33.628236Z"
        },
        "id": "507a7c7fb3244a1f"
      },
      "outputs": [],
      "source": [
        "inner_steps = 600  # Since dt = 0.5ms, these are 400ms\n",
        "velocity_size = 0.01  # 1cm/s\n",
        "\n",
        "f, ax = plt.subplots(3, 3, figsize=(8, 8))\n",
        "\n",
        "time = 0\n",
        "response_per_direction = []\n",
        "\n",
        "# Head directions in radians\n",
        "head_directions = [0, np.pi/4, np.pi/2, 3*np.pi/4, np.pi, -3*np.pi/4, -np.pi/2, -np.pi/4]\n",
        "# Just a list with axis indexes to plot the rates in neural sheet space\n",
        "dir_titles =      [\"Right\", \"Up-right\", \"Up\", \"Up-left\", \"Left\", \"Down-left\", \"Down\", \"Down-right\"]\n",
        "subplot_coordinates = [(1, 2), (0, 2), (0, 1), (0, 0), (1, 0), (2, 0), (2, 1), (2, 2)]\n",
        "\n",
        "neuron_response = cp.deepcopy(periodic_grid_cell)\n",
        "ax[1, 1].imshow(neuron_response[square_center[0]-half_square_size:square_center[0]+half_square_size,\n",
        "                                 square_center[1]-half_square_size:square_center[1]+half_square_size], cmap=\"jet\")\n",
        "ax[1, 1].axis(\"off\")\n",
        "for i in range(len(head_directions)):\n",
        "    neuron_response = cp.deepcopy(periodic_grid_cell)\n",
        "    hd = head_directions[i]\n",
        "    axi, axj = subplot_coordinates[i]\n",
        "    neuron_response = ideal_RNN.update_rate_map(headDirection=np.ones(inner_steps)*hd, # Head direction is in radians, so this is moving up\n",
        "                                                  velocity=np.ones(inner_steps)*velocity_size,\n",
        "                                                  grid_cell_rate=neuron_response)\n",
        "    ax[axi, axj].imshow(neuron_response[square_center[0]-half_square_size:square_center[0]+half_square_size,\n",
        "                                        square_center[1]-half_square_size:square_center[1]+half_square_size], cmap=\"jet\")\n",
        "    ax[axi, axj].axis(\"off\")\n",
        "    # Draw an arrow from the central plot to the next plot according to its head direction\n",
        "    ax[axi, axj].set_title(\"$\\Delta$ \"+dir_titles[i], loc=\"center\")\n",
        "\n",
        "plt.tight_layout()\n",
        "plt.show()"
      ]
    },
    {
      "cell_type": "markdown",
      "id": "ca99f97df6c66fd0",
      "metadata": {
        "id": "ca99f97df6c66fd0"
      },
      "source": [
        "To get more intuition for how these networks work, we can look at the pattern of excitation and inhibition on each bump the network uses to moves the bump around"
      ]
    },
    {
      "cell_type": "code",
      "execution_count": null,
      "id": "dc46138ae5421b46",
      "metadata": {
        "ExecuteTime": {
          "end_time": "2024-06-16T18:54:03.723109Z",
          "start_time": "2024-06-16T18:53:44.348978Z"
        },
        "id": "dc46138ae5421b46"
      },
      "outputs": [],
      "source": [
        "inner_steps = 500  # Since dt = 0.5ms, these are 400ms\n",
        "velocity_size = 0.05  # 5cm/s\n",
        "\n",
        "f, ax = plt.subplots(3, 3, figsize=(8, 8))\n",
        "\n",
        "neuron_response = cp.deepcopy(periodic_grid_cell)\n",
        "time = 0\n",
        "response_per_direction = []\n",
        "\n",
        "# Head directions in radians\n",
        "head_directions = [0, np.pi/4, np.pi/2, 3*np.pi/4, np.pi, -3*np.pi/4, -np.pi/2, -np.pi/4]\n",
        "# Just a list with axis indexes to plot the rates in neural sheet space\n",
        "subplot_coordinates = [(1, 2), (0, 2), (0, 1), (0, 0), (1, 0), (2, 0), (2, 1), (2, 2)]\n",
        "dir_titles = [\"Right\", \"Up-right\", \"Up\", \"Up-left\", \"Left\", \"Down-left\", \"Down\", \"Down-right\"]\n",
        "\n",
        "half_square_size = 8\n",
        "ax[1, 1].imshow(neuron_response[square_center[0]-half_square_size:square_center[0]+half_square_size,\n",
        "                                 square_center[1]-half_square_size:square_center[1]+half_square_size], cmap=\"jet\")\n",
        "ax[1, 1].axis(\"off\")\n",
        "for i in range(len(head_directions)):\n",
        "    neuron_response = cp.deepcopy(periodic_grid_cell)\n",
        "    hd = head_directions[i]\n",
        "    axi, axj = subplot_coordinates[i]\n",
        "    _, pattern_change = ideal_RNN.update_rate_map(headDirection=np.ones(inner_steps)*hd, # Head direction is in radians, so this is moving up\n",
        "                                                  velocity=np.ones(inner_steps)*velocity_size,\n",
        "                                                  grid_cell_rate=neuron_response,\n",
        "                                                  get_pattern_change=True)\n",
        "    ax[axi, axj].imshow(pattern_change[square_center[0]-half_square_size:square_center[0]+half_square_size,\n",
        "                                     square_center[1]-half_square_size:square_center[1]+half_square_size], cmap=\"coolwarm\")\n",
        "    ax[axi, axj].axis(\"off\")\n",
        "    # Draw an arrow from the central plot to the next plot according to its head direction\n",
        "    ax[axi, axj].set_title(dir_titles[i], loc=\"center\")\n",
        "plt.tight_layout()\n",
        "plt.show()"
      ]
    },
    {
      "cell_type": "markdown",
      "source": [
        "We see that to move a bump to the left, it excites the neurons to the left and inhibits the neurons to the right... just as the connectivity says it should!"
      ],
      "metadata": {
        "id": "bz1j-baaBcS6"
      },
      "id": "bz1j-baaBcS6"
    },
    {
      "cell_type": "markdown",
      "source": [
        "## 2.4 Trajectories"
      ],
      "metadata": {
        "id": "9b_fKjGBs1kx"
      },
      "id": "9b_fKjGBs1kx"
    },
    {
      "cell_type": "markdown",
      "source": [
        "Now lets look at the activity of a cell while the network is path integrating on a specific trajectory. First, generate the trajectory."
      ],
      "metadata": {
        "id": "RaL0M36CBlwP"
      },
      "id": "RaL0M36CBlwP"
    },
    {
      "cell_type": "code",
      "execution_count": null,
      "id": "a439cce70d365cea",
      "metadata": {
        "ExecuteTime": {
          "end_time": "2024-06-16T18:54:08.528579Z",
          "start_time": "2024-06-16T18:54:03.723964Z"
        },
        "id": "a439cce70d365cea",
        "cellView": "code"
      },
      "outputs": [],
      "source": [
        "# Generate a trajectory following base code to get the same results\n",
        "# This trajectory is simulated using an enclosure radios of 2 meters\n",
        "example_trajectory_size = 100000\n",
        "position_x, position_y, headDirection = ideal_RNN.simulate_base_trajectory(sequence_length=example_trajectory_size)\n"
      ]
    },
    {
      "cell_type": "code",
      "execution_count": null,
      "id": "49cad0edf832619f",
      "metadata": {
        "ExecuteTime": {
          "end_time": "2024-06-16T18:54:08.793058Z",
          "start_time": "2024-06-16T18:54:08.529755Z"
        },
        "id": "49cad0edf832619f"
      },
      "outputs": [],
      "source": [
        "# Plot the trajectory\n",
        "f, ax = plt.subplots(1, 1, figsize=(6, 6))\n",
        "ax.plot(position_x, position_y)\n",
        "ax.set_xlabel(\"Pos x [cm]\")\n",
        "ax.set_ylabel(\"Pos y [cm]\")\n",
        "ax.set_title(\"Simulated trajectory (orig paper)\")\n",
        "plt.show()"
      ]
    },
    {
      "cell_type": "markdown",
      "source": [
        "Then provide this trajectory as input to the model. We'll let it path-integrate while recording neural activities, so we can plot those afterwards."
      ],
      "metadata": {
        "id": "RaaZaEJwMkvi"
      },
      "id": "RaaZaEJwMkvi"
    },
    {
      "cell_type": "code",
      "source": [
        "# @title Path integrate while recording\n",
        "\n",
        "from scipy.fft import fft2, fftshift, ifft2\n",
        "\n",
        "def path_neural_activity(ideal_rnn_, position_x, position_y, headDirection, grid_cell_rate, periodic_boundary=False):\n",
        "  increment = 1\n",
        "  r = grid_cell_rate\n",
        "  sampling_length = len(position_x)\n",
        "  single_neuron_response = np.zeros(sampling_length)\n",
        "  single_neuron = [ideal_rnn_.n_neurons // 2, ideal_rnn_.n_neurons // 2]\n",
        "\n",
        "  # ADDED THIS: store firing rate of whole population\n",
        "  frs = [grid_cell_rate]\n",
        "\n",
        "  for iter in tqdm(range(sampling_length - 20)):\n",
        "      theta_v = headDirection[increment]\n",
        "      vel = np.sqrt(\n",
        "          (position_x[increment] - position_x[increment - 1]) ** 2\n",
        "          + (position_y[increment] - position_y[increment - 1]) ** 2\n",
        "      )\n",
        "\n",
        "      left = -np.cos(theta_v)\n",
        "      right = np.cos(theta_v)\n",
        "      up = np.sin(theta_v)\n",
        "      down = -np.sin(theta_v)\n",
        "\n",
        "      increment += 1\n",
        "\n",
        "      # Break feedforward input into its directional components\n",
        "      # Equation (4)\n",
        "      rfield = ideal_rnn_.venvelope * (\n",
        "          (1 + ideal_rnn_.alpha * vel * right) * ideal_rnn_.typeR\n",
        "          + (1 + ideal_rnn_.alpha * vel * left) * ideal_rnn_.typeL\n",
        "          + (1 + ideal_rnn_.alpha * vel * up) * ideal_rnn_.typeU\n",
        "          + (1 + ideal_rnn_.alpha * vel * down) * ideal_rnn_.typeD\n",
        "      )\n",
        "\n",
        "      # Convolute population activity with shifted symmetric weights.\n",
        "      # real() is implemented for octave compatibility\n",
        "      convolution = np.real(\n",
        "          ifft2(\n",
        "              fft2(r * ideal_rnn_.typeR) * ideal_rnn_.ftr_small\n",
        "              + fft2(r * ideal_rnn_.typeL) * ideal_rnn_.ftl_small\n",
        "              + fft2(r * ideal_rnn_.typeD) * ideal_rnn_.ftd_small\n",
        "              + fft2(r * ideal_rnn_.typeU) * ideal_rnn_.ftu_small\n",
        "          )\n",
        "      )\n",
        "\n",
        "      # Add feedforward inputs to the shifted population activity to\n",
        "      # yield the new population activity.\n",
        "      rfield += convolution\n",
        "\n",
        "      # Neural Transfer Function\n",
        "      fr = np.maximum(rfield, 0)\n",
        "\n",
        "      # Neuron dynamics (Eq. 1)\n",
        "      r_old = r\n",
        "      r_new = np.minimum(10, (ideal_rnn_.time_step_dt / ideal_rnn_.tau) * (5 * fr - r_old) + r_old)\n",
        "      r = r_new\n",
        "\n",
        "      # Track single neuron response\n",
        "      if fr[single_neuron[0], single_neuron[1]] > 0:\n",
        "          single_neuron_response[increment] = fr[single_neuron[0], single_neuron[1]]\n",
        "\n",
        "      # ADDED THIS: every 10 steps, store firing rate of whole population\n",
        "      if iter % 10 == 0:\n",
        "        frs.append(fr)\n",
        "\n",
        "  # ADDED THIS: return firing rate of whole population\n",
        "  return single_neuron_response, r, frs"
      ],
      "metadata": {
        "id": "d7_plCXb8ZaV",
        "cellView": "form"
      },
      "id": "d7_plCXb8ZaV",
      "execution_count": null,
      "outputs": []
    },
    {
      "cell_type": "code",
      "source": [
        "# Path integrate along generated trajectory, while recording neural activity.\n",
        "# This takes ~5 mins\n",
        "grid_rate = periodic_grid_cell\n",
        "neuron_response, grid_rate, frs = path_neural_activity(\n",
        "    ideal_RNN, position_x,\n",
        "    position_y,\n",
        "    headDirection,\n",
        "    grid_rate,\n",
        "    periodic_boundary=False)"
      ],
      "metadata": {
        "id": "kJuxRLlO8JuX"
      },
      "id": "kJuxRLlO8JuX",
      "execution_count": null,
      "outputs": []
    },
    {
      "cell_type": "code",
      "execution_count": null,
      "id": "9c169761829d6fa5",
      "metadata": {
        "ExecuteTime": {
          "end_time": "2024-06-16T18:56:57.887997Z",
          "start_time": "2024-06-16T18:56:57.627078Z"
        },
        "id": "9c169761829d6fa5"
      },
      "outputs": [],
      "source": [
        "# Plot firing rate along trajectory (like you did in section 1.2)\n",
        "f, ax = plt.subplots(1, 1, figsize=(6, 6))\n",
        "ax.set_xlabel(\"Pos x [cm]\")\n",
        "ax.set_ylabel(\"Pos y [cm]\")\n",
        "ax.set_title(\"Single cell activity\")\n",
        "\n",
        "sub_sample_index = np.arange(0, len(neuron_response), 20)\n",
        "activitiy_rate_sampled = neuron_response[sub_sample_index]\n",
        "subsample_x = position_x[sub_sample_index]\n",
        "subsample_y = position_y[sub_sample_index]\n",
        "colors = plt.cm.jet(neuron_response/np.max(neuron_response))\n",
        "subsample_colors = colors[sub_sample_index]\n",
        "\n",
        "ax.scatter(subsample_x, subsample_y, c=subsample_colors, s=5)\n",
        "ax.axis(\"equal\")\n",
        "\n",
        "plt.tight_layout()\n",
        "plt.show()"
      ]
    },
    {
      "cell_type": "markdown",
      "source": [
        "And like in the 1D case, we can now investigate the low-dimensional manifold that of the neural activity. Like before, we have just simulated vectors of population activity, which have very high dimensionality - 128*128 = 16384 in this case! But the actual latent dynamics occur on a much lower dimensional manifold. Let's look at the manifold of the neural activity by projecting it on the first three principal components."
      ],
      "metadata": {
        "id": "AgIU8MWUL6VB"
      },
      "id": "AgIU8MWUL6VB"
    },
    {
      "cell_type": "code",
      "source": [
        "# We have a list of firing rates of all (n_neurons x n_neurons) neurons on the neural sheet along the trajectory\n",
        "# Stack them to get a [time x n_neurons x n_neurons] matrix,\n",
        "# then prepare for PCA by flattening the neural sheet to [time x (n_neurons * n_neurons)],\n",
        "# then sub-sample to make this a bit faster\n",
        "frs_pca = np.reshape(np.stack(frs), (-1, n_neurons*n_neurons))[::5]\n",
        "\n",
        "# Exercise: do a PCA to see the 3-dimensional manifold"
      ],
      "metadata": {
        "id": "Gy3GLjZo9oBC"
      },
      "id": "Gy3GLjZo9oBC",
      "execution_count": null,
      "outputs": []
    },
    {
      "cell_type": "code",
      "source": [
        "# @title Solution\n",
        "# Exercise: do a PCA to see the 3-dimensional manifold\n",
        "pca = PCA(n_components=3)\n",
        "pca.fit(frs_pca)\n",
        "\n",
        "three_d = pca.transform(frs_pca)\n",
        "\n",
        "fig = plt.figure()\n",
        "ax = fig.add_subplot(projection='3d')\n",
        "\n",
        "ax.scatter(*three_d.T)"
      ],
      "metadata": {
        "cellView": "form",
        "id": "XM2bmBA-lXnc"
      },
      "id": "XM2bmBA-lXnc",
      "execution_count": null,
      "outputs": []
    },
    {
      "cell_type": "markdown",
      "source": [
        "That kind of looks like a torus... Which is exactly what the manifold of real grid cells looks like! Sorry for the tiny image, it won't paste here if it's larger - see full figure [here](https://www.nature.com/articles/s41586-021-04268-7/figures/1)."
      ],
      "metadata": {
        "id": "edZV1SblMBN4"
      },
      "id": "edZV1SblMBN4"
    },
    {
      "cell_type": "markdown",
      "source": [
        "![image.png](data:image/png;base64,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)"
      ],
      "metadata": {
        "id": "aKtMzdAOjzuH"
      },
      "id": "aKtMzdAOjzuH"
    },
    {
      "cell_type": "markdown",
      "source": [
        "# 3. **A recurrent neural network that learns to path integrate**"
      ],
      "metadata": {
        "id": "mCUH2L0UvlOp"
      },
      "id": "mCUH2L0UvlOp"
    },
    {
      "cell_type": "markdown",
      "source": [
        "The previous section described how a recurrent neural network could track location, with a very specific set of hand-tuned connection weights. While that is great to get an intuition for how a neural network *could* solve this problem, the question remains if that's what a network that has to learn to path-integrate actually *does*. We'll find out in the following sections! In this section, we'll train a RNN to accurately path integrate.\n",
        "\n",
        "We'll give you two options for completing this section: you can either code up your own RNN and train it (option A), or use a model that we have implemented and trained for you (option B). Since training will take ~20 mins, you may also want to consider building you own model, but then using the pretrained model for further analysis. Up to you.\n",
        "\n",
        "Below you will find some hyperparameters for the model."
      ],
      "metadata": {
        "id": "LT5HwD1Tv-MD"
      },
      "id": "LT5HwD1Tv-MD"
    },
    {
      "cell_type": "code",
      "execution_count": null,
      "id": "bc631ad84d0ce55f",
      "metadata": {
        "ExecuteTime": {
          "end_time": "2024-06-16T19:03:08.817010Z",
          "start_time": "2024-06-16T19:03:08.792497Z"
        },
        "id": "bc631ad84d0ce55f"
      },
      "outputs": [],
      "source": [
        "# Real RNN parameters (pre-trained models use this number of neurons)\n",
        "n_grid_cells = 24**2  # needs to be the square of a number for later analysis\n",
        "learning_rate = 5e-4\n",
        "training_steps = int(5e4) # the pre-trained model is trained for 1e5 iterations, which takes 40 mins. To save time, we'll do 5e4 iterations\n",
        "weight_decay = 1e-4\n",
        "sequence_length = 20\n",
        "\n",
        "# If you are loading a pre-trained model, make sure to use the same activation function\n",
        "# activation = \"tanh\"  # This will give you \"square grids\", some of them actually look hexagonal\n",
        "activation = \"relu\"  # This will give you hexagonal grids"
      ]
    },
    {
      "cell_type": "markdown",
      "source": [
        "The objective of this model will be to track the animal's position. More specifically, that means predicting where it will end up given a velocity signal. Concretely, the model receives a velocity input at each step, and based on its hidden state and recurrent weights, provides a position estimate as output. That output position estimate comes in the form of a vector of place cell activities. The recurrent units are interpreted as grid cells, so the hidden state corresponds to grid cell activity.\n",
        "\n",
        "To train such a model, we need training data that consists of trajectories (for input) and corresponding place cell activations (as target output). That's exactly what we have been simulating in section 1.2. There will be one difference: the trajectories will be much shorted, because we will need to backpropagate-through-time."
      ],
      "metadata": {
        "id": "FVXujYgEWNUI"
      },
      "id": "FVXujYgEWNUI"
    },
    {
      "cell_type": "code",
      "execution_count": null,
      "id": "8839ff78bf998424",
      "metadata": {
        "ExecuteTime": {
          "end_time": "2024-06-16T18:52:58.521935Z",
          "start_time": "2024-06-16T18:52:58.489133Z"
        },
        "id": "8839ff78bf998424"
      },
      "outputs": [],
      "source": [
        "# Now we try shorter sequences to train an RNN using backpropagation through time\n",
        "sequence_length = 20\n",
        "batch_size = 256\n",
        "\n",
        "# Create a new generator for generating trajectories to train the model on\n",
        "generator = TrajectoryGenerator(sequence_length, batch_size, room_width, room_depth, device, place_cells=place_cells)\n",
        "# We can apply \"next\" operator to sample trajectory batches and place cells activity\n",
        "gen = generator.get_batch_generator()\n",
        "\n",
        "# Plotting options\n",
        "plot_n_trajectories = 15\n",
        "figure_size = (8, 8)\n",
        "line_width = 2.5\n",
        "marker_size = 150\n",
        "\n",
        "# Plot a batch of example trajectories\n",
        "traj = generator.generate_trajectory(room_width, room_depth, batch_size)\n",
        "x, y = traj[\"target_x\"], traj[\"target_y\"]\n",
        "\n",
        "fig, ax = plt.subplots(1, 1, figsize=figure_size)\n",
        "for i in range(plot_n_trajectories):\n",
        "    init_x = traj[\"init_x\"][i]\n",
        "    init_y = traj[\"init_y\"][i]\n",
        "    ax.plot(x[i, :], y[i, :], label=f\"Trajectory {i}\", linewidth=line_width)\n",
        "    ax.scatter(init_x, init_y, color=f\"C{i}\", marker=\"o\", s=marker_size)\n",
        "ax.set_xlabel(\"Pos x [m]\")\n",
        "ax.set_ylabel(\"Pos y [m]\")\n",
        "ax.set_title(\"Simulated trajectories\")\n",
        "# Putting the legend outside the plot\n",
        "plt.legend(bbox_to_anchor=(1.05, 1), loc='upper left')"
      ]
    },
    {
      "cell_type": "markdown",
      "id": "55b25eee57c45309",
      "metadata": {
        "id": "55b25eee57c45309"
      },
      "source": [
        "## 3.1 [A] Train your own path integrator\n",
        "Below you will find the skeleton of an RNN, where you will need to implement the essential parts to make it path integrate.\n",
        "\n",
        "We'll build it up step by step:\n",
        "- The first function you'll encounter is *_initialize_weights(self)*, which initialises a bunch of model weights - the next functions will let you know what weights we're talking about, so skip it for now. When you get back to this function to initialise weight matrices, you would ideally use uniform random initialization, between $ -\\sqrt{input}, +\\sqrt{input} $.\n",
        "- The central function that implements the recurrent dynamics is *g(self,inputs)*. It receives a tuple of a [time steps x batch x 2] dimensional velocity signal $ v $, and a [batch x place cells] dimensional initial position code $ p $. The output is the corresponding recurrent unit (i.e. grid cell) activity across time steps $ g $, with shape [time steps x batch x grid cells]. You will need to:\n",
        "  - Initialise the recurrent unit activity from the initial place cell input using encoder weights $ W_e $, initialised by you in *_initialise_weights(self)*\n",
        "  - For each time step (*self.sequence_length* of them), calculate the updated recurrent activity through $ g_t = f(W_v * v_t + W_g * g_{t-1}) $, where\n",
        "    - $ f $ is a non-linearity, initalised already, use *self.non_linearity*\n",
        "    - $ W_v $ are weights from velocity to grid cells, initialised by you in *_initialise_weights(self)*\n",
        "    - $ W_g $ are recurrent weights from grid cells to grid cells, initialised by you in *_initialise_weights(self)*\n",
        "- The function *predict(self, inputs)* then calls this recurrent update with the same inputs, and outputs predicted positions as place cell activations $ p_t = W_d * g_t $. $ W_d $ is a matrix of decoder weights, initialised by you in *_initialise_weights(self)*. The output place cell activations have dimensions [time steps x batch x place cells].\n",
        "- The function *compute_loss(self, inputs, pc_outputs, pos)* calls the prediction function to calculate the training loss for the predicted place cell activities. The *pc_outputs* input is a [time steps x batch x place cells] matrix of ground truth place cell activity. The *pos* input is a [time steps x batch x 2] ground truth location matrix. The function returns two outputs:\n",
        "  - loss: $ l = l_p + l_w $, where\n",
        "    - $ l_p = mean(-\\Sigma_p y_p * log(\\hat{y}_p)) $ is a prediction loss that calculates the cross-entropy loss between predicted and ground truth place cell activities, averaged across time steps and batches. We get $\\hat{y}$ by taking the softmax over the output of *predict(inputs)*.\n",
        "    - $ l_w = sum(w * W_g^2) $ implements weight regularisation, where $w$ is a decaying regularisation factor, implemented already as *self.weight_decay*, and the square is the element-wise square of the recurrent weight matrix.\n",
        "  - error: the distance between the 2D coordinate of the agent according to the place cell activation from *predict(inputs)* and the ground truth coordinate in *pos*, averaged across time and batches. You'll get the 2D coordinate given place cell predictions with *self.place_cells.get_nearest_cell_pos(predictions)*\n",
        "- The function *bptt_update(self, inputs, pc_outputs, pos)* will then take the loss outputs and carry out backpropagation through time. You'll need to reset the gradients of the optimiser, already initialised as *self.optimizer*, then calculate the losses with *compute_loss(inputs, pc_outputs, pos)*, do the backward pass, and step the optimiser. The outputs of this function are simply the loss and the error, but in numpy format (without gradients, on the cpu - so you'll need *.detach().cpu().numpy()*) for further processing.\n",
        "- Finally, the *train_RNN(self, data_generator, training_steps)* function repeats the backprop operation for the number of training iterations required. The *data_generator* input is the generator that we've seen before, to produce trajectories and corresponding place cell activations; the *training_steps* input is the number of training iterations. Write a training loop that samples new inputs and targets from the generator using *inputs, pc_outputs, pos = next(data_generator)*, and append the outputs of the backprop-through-time to lists that track training progress: *self.loss_hist* (already initialised) for losses, and *self.pos_err_hist* (already initialised) for position estimate error. The function returns the both training history lists after finishing the training loop."
      ]
    },
    {
      "cell_type": "code",
      "source": [
        "class MyPathIntegrator(Sorscher2022exercise):\n",
        "\n",
        "    def __init__(\n",
        "            self, Ng, Np, sequence_length, weight_decay, place_cells, device,\n",
        "                activation=torch.nn.ReLU, learning_rate=5e-3, learning_rule=\"adam\"\n",
        "        ):\n",
        "        super().__init__(Ng, Np, sequence_length, weight_decay, place_cells, device, activation, learning_rate, learning_rule)\n",
        "\n",
        "    def _initialize_weights(self):\n",
        "        # Exercise: intialise weights\n",
        "\n",
        "    def g(self, inputs):\n",
        "        # Exercise: do recurrent update\n",
        "        return g_cell_activity\n",
        "\n",
        "    def predict(self, inputs):\n",
        "        # Exercise: predict place cell activity\n",
        "        return pred_place_cells\n",
        "\n",
        "    def compute_loss(self, inputs, pc_outputs, pos):\n",
        "        # Exercise: calculate losses\n",
        "        return loss, err\n",
        "\n",
        "    def bptt_update(self, inputs, pc_outputs, pos):\n",
        "        # Exercise: backpropagate through time\n",
        "        return loss.detach().cpu().numpy(), err.detach().cpu().numpy()\n",
        "\n",
        "    def train_RNN(self, data_generator, training_steps):\n",
        "        # Exercise: run training loop\n",
        "        return self.loss_hist, self.pos_err_hist"
      ],
      "metadata": {
        "id": "lkdcaz_umcKx"
      },
      "id": "lkdcaz_umcKx",
      "execution_count": null,
      "outputs": []
    },
    {
      "cell_type": "code",
      "source": [
        "# @title Solution\n",
        "class MyPathIntegrator(Sorscher2022exercise):\n",
        "\n",
        "    def __init__(\n",
        "            self, Ng, Np, sequence_length, weight_decay, place_cells, device,\n",
        "                activation=torch.nn.ReLU, learning_rate=5e-3, learning_rule=\"adam\"\n",
        "        ):\n",
        "        super().__init__(Ng, Np, sequence_length, weight_decay, place_cells, device, activation, learning_rate, learning_rule)\n",
        "\n",
        "    def _initialize_weights(self):\n",
        "        # Exercise: intialise weights\n",
        "\n",
        "        k_g = 1/self.Ng\n",
        "        k_p = 1/self.Np\n",
        "        np_encoder_W = np.random.uniform(-np.sqrt(k_g), np.sqrt(k_g), size=(self.Ng, self.Np))\n",
        "        recurrent_W = np.random.uniform(-np.sqrt(k_g), np.sqrt(k_g), size=(self.Ng, self.Ng))\n",
        "        np_velocity_W = np.random.uniform(-np.sqrt(k_g), np.sqrt(k_g), size=(self.Ng, 2))\n",
        "        np_decoder_W = np.random.uniform(-np.sqrt(k_p), np.sqrt(k_p), size=(self.Ng, self.Np))\n",
        "\n",
        "        self.encoder_W = torch.nn.Parameter(torch.tensor(np_encoder_W, dtype=self.dtype, device=self.device),\n",
        "                                            requires_grad=True)\n",
        "        self.recurrent_W = torch.nn.Parameter(torch.tensor(recurrent_W, dtype=self.dtype, device=self.device),\n",
        "                                              requires_grad=True)\n",
        "        self.velocity_W = torch.nn.Parameter(torch.tensor(np_velocity_W, dtype=self.dtype, device=self.device),\n",
        "                                             requires_grad=True)\n",
        "        self.decoder_W = torch.nn.Parameter(torch.tensor(np_decoder_W, dtype=self.dtype, device=self.device),\n",
        "                                            requires_grad=True)\n",
        "\n",
        "        self.softmax = torch.nn.Softmax(dim=-1)\n",
        "\n",
        "    def g(self, inputs):\n",
        "        # Exercise: do recurrent update\n",
        "\n",
        "        velocity, init_place_cell = inputs\n",
        "        initial_states = init_place_cell @ self.encoder_W.T\n",
        "\n",
        "        batch_size = velocity.shape[1]\n",
        "        h_t_minus_1 = initial_states\n",
        "        h_t = initial_states\n",
        "        g_cell_activity = []\n",
        "        for t in range(self.sequence_length):\n",
        "            linear_input = velocity[t] @ self.velocity_W.T + h_t_minus_1 @ self.recurrent_W.T\n",
        "            h_t = self.non_linearity(linear_input)\n",
        "            g_cell_activity.append(h_t)\n",
        "            h_t_minus_1 = h_t\n",
        "        g_cell_activity = torch.stack(g_cell_activity)\n",
        "        return g_cell_activity\n",
        "\n",
        "    def predict(self, inputs):\n",
        "        # Exercise: predict place cell activity\n",
        "\n",
        "        g_cell_activity = self.g(inputs)\n",
        "        pred_place_cells = g_cell_activity @ self.decoder_W\n",
        "        return pred_place_cells\n",
        "\n",
        "    def compute_loss(self, inputs, pc_outputs, pos):\n",
        "        # Exercise: calculate losses\n",
        "\n",
        "        y = pc_outputs\n",
        "        preds = self.predict(inputs)\n",
        "        yhat = self.softmax(self.predict(inputs))\n",
        "        loss = -(y * torch.log(yhat)).sum(-1).mean()\n",
        "\n",
        "        loss += self.weight_decay * (self.recurrent_W**2).sum()\n",
        "\n",
        "        pred_pos = self.place_cells.get_nearest_cell_pos(preds)\n",
        "        err = torch.sqrt(((pos - pred_pos) ** 2).sum(-1)).mean()\n",
        "\n",
        "        return loss, err\n",
        "\n",
        "    def bptt_update(self, inputs, pc_outputs, pos):\n",
        "        # Exercise: backpropagate through time\n",
        "\n",
        "        self.optimizer.zero_grad()\n",
        "        loss, err = self.compute_loss(inputs, pc_outputs, pos)\n",
        "        loss.backward()\n",
        "        self.optimizer.step()\n",
        "\n",
        "        return loss.detach().cpu().numpy(), err.detach().cpu().numpy()\n",
        "\n",
        "    def train_RNN(self, data_generator, training_steps):\n",
        "        # Exercise: run training loop\n",
        "\n",
        "        for i in tqdm(range(training_steps)):\n",
        "            inputs, pc_outputs, pos = next(data_generator)\n",
        "            loss, pos_err = self.bptt_update(inputs,pc_outputs,pos)\n",
        "            self.loss_hist.append(loss)\n",
        "            self.pos_err_hist.append(pos_err)\n",
        "\n",
        "        return self.loss_hist, self.pos_err_hist"
      ],
      "metadata": {
        "id": "zmeyRJpGTz1G"
      },
      "id": "zmeyRJpGTz1G",
      "execution_count": null,
      "outputs": []
    },
    {
      "cell_type": "markdown",
      "source": [
        "Create instance of the model you've just built:"
      ],
      "metadata": {
        "id": "7l53DJghuHs_"
      },
      "id": "7l53DJghuHs_"
    },
    {
      "cell_type": "code",
      "source": [
        "real_rnn = MyPathIntegrator(Ng=n_grid_cells,\n",
        "                                Np=n_place_cells,\n",
        "                                sequence_length=sequence_length,\n",
        "                                weight_decay=weight_decay,\n",
        "                                place_cells=place_cells,\n",
        "                                activation=activation,\n",
        "                                learning_rate=learning_rate,\n",
        "                                device=device)"
      ],
      "metadata": {
        "id": "4IjublgbKHlq"
      },
      "id": "4IjublgbKHlq",
      "execution_count": null,
      "outputs": []
    },
    {
      "cell_type": "markdown",
      "id": "3d151869037a5825",
      "metadata": {
        "id": "3d151869037a5825"
      },
      "source": [
        "## 3.1 [B] Construct a pre-built path integrator model"
      ]
    },
    {
      "cell_type": "markdown",
      "source": [
        "Create instance of provided model. If you want to find out what's happening under the hood, have a look at the _Sorscher2022exercise_ class [here](https://github.com/SainsburyWellcomeCentre/NeuralPlayground/blob/neuroai_tutorial/neuralplayground/agents/Sorscher_2022.py)."
      ],
      "metadata": {
        "id": "jddj4IPpuMUS"
      },
      "id": "jddj4IPpuMUS"
    },
    {
      "cell_type": "code",
      "execution_count": null,
      "id": "14240af2f569c2b7",
      "metadata": {
        "ExecuteTime": {
          "end_time": "2024-06-16T19:03:10.161454Z",
          "start_time": "2024-06-16T19:03:10.129348Z"
        },
        "id": "14240af2f569c2b7"
      },
      "outputs": [],
      "source": [
        "real_rnn = Sorscher2022exercise(Ng=n_grid_cells,\n",
        "                                Np=n_place_cells,\n",
        "                                sequence_length=sequence_length,\n",
        "                                weight_decay=weight_decay,\n",
        "                                place_cells=place_cells,\n",
        "                                activation=activation,\n",
        "                                learning_rate=learning_rate,\n",
        "                                device=device)"
      ]
    },
    {
      "cell_type": "markdown",
      "source": [
        "## 3.2 Train the model"
      ],
      "metadata": {
        "id": "caWYfCd_yHuJ"
      },
      "id": "caWYfCd_yHuJ"
    },
    {
      "cell_type": "markdown",
      "source": [
        "If you're going to train your own model, you'll want to start a GPU session on colab, because it's ~50x faster. Go to Runtime > Change runtime type > Pick a GPU. That will disconnect your runtime so you'll have to rerun certain sections. Just collapse the section by clicking the V button next to the section heading, then click play to execute all of the section's cells. To start training, rerun Section 0 (to set up packages), Section 1.2 (to create trajectory generator), and Section 3 up to here (to define your model)."
      ],
      "metadata": {
        "id": "MHLYZ7vTDhyw"
      },
      "id": "MHLYZ7vTDhyw"
    },
    {
      "cell_type": "code",
      "execution_count": null,
      "id": "cbf82b550657d5",
      "metadata": {
        "ExecuteTime": {
          "end_time": "2024-06-16T19:03:10.790436Z",
          "start_time": "2024-06-16T19:03:10.766351Z"
        },
        "id": "cbf82b550657d5"
      },
      "outputs": [],
      "source": [
        "# Change do_train to true if you have built your own RNN (Option B). Else, load trained weights (Option A)\n",
        "do_train=False\n",
        "if do_train:\n",
        "  loss_hist, pos_err_hist = real_rnn.train_RNN(gen, training_steps)\n",
        "else:\n",
        "  real_rnn.load_model(f\"examples/neuroai_tutorial/tmp_tutorial_model/long_pre_trained_{activation}.tar\")"
      ]
    },
    {
      "cell_type": "markdown",
      "source": [
        "Let's have a look at the training curve, to find out whether the loss has coverged after training, and if the model has learned to accurately track its position. We'll plot the loss (cross-entropy loss between true and predicted place cell activity) and the position error (distance between true location and location according to place cell activation) against training iterations. If they don't look like they have flattened, we're in trouble... We might need more training iterations in that case."
      ],
      "metadata": {
        "id": "SLDk2kHAxhdp"
      },
      "id": "SLDk2kHAxhdp"
    },
    {
      "cell_type": "code",
      "execution_count": null,
      "id": "eafff6cf40c457",
      "metadata": {
        "ExecuteTime": {
          "end_time": "2024-06-16T19:03:13.963184Z",
          "start_time": "2024-06-16T19:03:13.638972Z"
        },
        "id": "eafff6cf40c457"
      },
      "outputs": [],
      "source": [
        "f, ax = plt.subplots(1, 2, figsize=(12, 5))\n",
        "# Loss across training\n",
        "ax[0].plot(real_rnn.loss_hist)\n",
        "ax[0].set_xlabel(\"Training steps\")\n",
        "ax[0].set_ylabel(\"Loss\")\n",
        "# Position error across training\n",
        "ax[1].plot(real_rnn.pos_err_hist)\n",
        "ax[1].set_xlabel(\"Training steps\")\n",
        "ax[1].set_ylabel(\"Position error\")\n",
        "plt.tight_layout()\n",
        "plt.show()"
      ]
    },
    {
      "cell_type": "markdown",
      "source": [
        "## 3.3 Plot performance and learned neurons"
      ],
      "metadata": {
        "id": "MtyZPDEryZ5M"
      },
      "id": "MtyZPDEryZ5M"
    },
    {
      "cell_type": "markdown",
      "source": [
        "Alright, we now have a trained model! Let's see how it performs. We'll generate some more training examples, feed them to the model, and inspect the model outputs. Plot some true and model predicted trajectories to see if the model is capable of path integration - in other words, whether it accurately tracks position from velocity input. There's a small caveat for the inpretation of this plot, because we use a very rudimentary way of translating predicted place cell activity to 2d coordinates: we just average the coordinate of the peak of the place cells that respond strongest (using [get_nearest_cell_pos](https://github.com/SainsburyWellcomeCentre/NeuralPlayground/blob/c4fb977de6420e5c24621fe7199d668f41c5919b/neuralplayground/vendored/place_cells.py#L79)). So don't be disheartened if the true and predicted trajectories don't perfectly overlap."
      ],
      "metadata": {
        "id": "zJ7by4Mdvo1F"
      },
      "id": "zJ7by4Mdvo1F"
    },
    {
      "cell_type": "code",
      "execution_count": null,
      "id": "55f663d6b6151bf1",
      "metadata": {
        "ExecuteTime": {
          "end_time": "2024-06-16T19:36:37.662341Z",
          "start_time": "2024-06-16T19:36:37.250658Z"
        },
        "id": "55f663d6b6151bf1"
      },
      "outputs": [],
      "source": [
        "# Create a new set of model inputs.\n",
        "# inputs: tuple of [time steps x batch x 2] velocity signal,\n",
        "#   and [batch x place cells] initial position code\n",
        "# pos: [time steps x batch x 2] 2d coordinates that form trajectories\n",
        "# pc_outputs: [time steps x batch x place cells] ground truth place cell activity\n",
        "inputs, pos, pc_outputs = generator.get_test_batch()\n",
        "\n",
        "# Get model predicted position by having the model predict place cell activities\n",
        "# based on initial place cells activity and velocity signal (both in inputs)\n",
        "# Then translate those predicted activities to 2d coordinates based on place cell locations\n",
        "pred_pos = place_cells.get_nearest_cell_pos(real_rnn.predict(inputs)).cpu()\n",
        "\n",
        "# Get true position to gpu, and position of all place cells\n",
        "pos = pos.cpu()\n",
        "cell_pos = place_cells.cell_positions.cpu()\n",
        "\n",
        "# Exercise: plot 10 ground truth trajectories, and the corresponding predicted trajectories\n",
        "# Also scatter the peak locations of all place cells, to get an idea of the coverage"
      ]
    },
    {
      "cell_type": "code",
      "source": [
        "# @title Solution\n",
        "# Exercise: plot 10 ground truth trajectories, and the corresponding predicted trajectories\n",
        "# Also scatter the peak locations of all place cells, to get an idea of the coverage\n",
        "n_trajectories = 10\n",
        "fig, ax = plt.subplots(1, 1, figsize=(6, 6))\n",
        "colors = plt.cm.viridis(np.linspace(0, 1, sequence_length))\n",
        "for i in range(n_trajectories):\n",
        "    ax.plot(pos[:,i,0], pos[:,i,1], c='red', label='True position', linewidth=2)\n",
        "    ax.plot(pred_pos[:,i,0], pred_pos[:,i,1],\n",
        "             c=\"blue\", label='Decoded position')\n",
        "    ax.scatter(pred_pos[:,i,0], pred_pos[:,i,1], c=colors, s=50, label='place_cells')\n",
        "    if i==0:\n",
        "        ax.legend(bbox_to_anchor=(1.05, 1), loc='upper left')\n",
        "ax.scatter(cell_pos[:,0], cell_pos[:,1], s=20, alpha=0.5, c='lightgrey')\n",
        "for axis in ['top','bottom','left','right']:\n",
        "    ax.spines[axis].set_linewidth(3)\n",
        "ax.set_xlabel('x [m]')\n",
        "ax.set_ylabel('y [m]')\n",
        "ax.set_xlim([-room_depth/2,room_width/2])\n",
        "ax.set_ylim([-room_depth/2,room_depth/2]);"
      ],
      "metadata": {
        "cellView": "form",
        "id": "51ajEDimm1Cv"
      },
      "id": "51ajEDimm1Cv",
      "execution_count": null,
      "outputs": []
    },
    {
      "cell_type": "markdown",
      "source": [
        "And now we can also investigate the representations that the model has learned. What do the rate maps of our recurrent units look like? We'll generate trajectories, input them to the model, run the model while collecting its hidden unit activations, then average the firing rate across trajectories for each binned position to get rate maps (see [compute_ratemaps](https://github.com/SainsburyWellcomeCentre/NeuralPlayground/blob/c4fb977de6420e5c24621fe7199d668f41c5919b/neuralplayground/vendored/visualize.py#L65)) just like we did for real neurons in section 1.1. And (drum roll...) they look like grid cells!"
      ],
      "metadata": {
        "id": "3VlvnR-B7Ati"
      },
      "id": "3VlvnR-B7Ati"
    },
    {
      "cell_type": "code",
      "execution_count": null,
      "id": "f17a986bd49245ac",
      "metadata": {
        "ExecuteTime": {
          "end_time": "2024-06-16T19:38:22.891731Z",
          "start_time": "2024-06-16T19:37:44.603877Z"
        },
        "id": "f17a986bd49245ac"
      },
      "outputs": [],
      "source": [
        "# Collect hidden unit activations to produce rate maps (takes ~1 min)\n",
        "res = 50\n",
        "n_avg = 100\n",
        "Ng = n_grid_cells\n",
        "activations, rate_map, g, pos = compute_ratemaps(real_rnn,\n",
        "                                                 generator,\n",
        "                                                 sequence_length,\n",
        "                                                 batch_size,\n",
        "                                                 room_width,\n",
        "                                                 room_depth,\n",
        "                                                 res=res,\n",
        "                                                 n_avg=n_avg,\n",
        "                                                 Ng=n_grid_cells)\n",
        "# Plot rate maps\n",
        "n_plot = 256\n",
        "plt.figure(figsize=(16, 4*n_plot//8**2))\n",
        "rm_fig = plot_ratemaps(activations, n_plot, smooth=True)\n",
        "plt.imshow(rm_fig)\n",
        "plt.axis('off');"
      ]
    },
    {
      "cell_type": "markdown",
      "source": [
        "Advanced: if you ended up inventing a clever way of quantifying grid cells in section 1.1, try to apply your 'grid score' to the learned artificial neurons. How do they compare to real grid cells?"
      ],
      "metadata": {
        "id": "pF47NNaw7pwK"
      },
      "id": "pF47NNaw7pwK"
    },
    {
      "cell_type": "code",
      "source": [
        "# Advanced exercise: calculate grid scores for learned artificial neurons"
      ],
      "metadata": {
        "id": "kPgVCUSr7o0P"
      },
      "id": "kPgVCUSr7o0P",
      "execution_count": null,
      "outputs": []
    },
    {
      "cell_type": "markdown",
      "source": [
        "# 4. **Learned representions in trained networks**"
      ],
      "metadata": {
        "id": "McRAQ5rtygcN"
      },
      "id": "McRAQ5rtygcN"
    },
    {
      "cell_type": "markdown",
      "source": [
        "Now that we have trained a RNN to path integrate, we can look under the hood and see how exactly it does so. We'll make plots like the ones we made to understand the ideal, hand-wired attractor network from section 2, and see if the trained network shares some of the features that we investigated in the 2D attractor network."
      ],
      "metadata": {
        "id": "dK6n8kZsjC8z"
      },
      "id": "dK6n8kZsjC8z"
    },
    {
      "cell_type": "markdown",
      "id": "74a789a5b1f60873",
      "metadata": {
        "id": "74a789a5b1f60873"
      },
      "source": [
        "## 4.1 Neural sheet\n",
        "\n",
        "But before we can make similar plots to those from section 2, we'll need to do a bit of pre-processing on the learned rate maps. Many of our intuitions came from the conceptual neural sheet, but the learned RNN doesn't have a pre-specified neural sheet: we didn't set up any particular organisation of its neurons. Because we didn't predefine where on the neural sheet the RNN neurons are, we are going to have to post-hoc work out the effective locations on a neural sheet the RNN has learned.\n",
        "\n",
        "We refer the interesed reader to equations 39-42 in [Sorscher et al 2023](https://www.cell.com/neuron/pdf/S0896-6273(22)00907-2.pdf) to understand how to do this... First we find the phase of each grid cell along the three ($0^o, 60^o, 120^o$) grid axes (remember, grid cells are periodic, so you can define their response pattern by three phases: where do they peak with respect to some reference, along each of the three grid axes)."
      ]
    },
    {
      "cell_type": "code",
      "execution_count": null,
      "id": "a5dca371d83ea153",
      "metadata": {
        "ExecuteTime": {
          "end_time": "2024-06-16T19:03:47.564734Z",
          "start_time": "2024-06-16T19:03:47.440047Z"
        },
        "id": "a5dca371d83ea153"
      },
      "outputs": [],
      "source": [
        "# Fourier transform\n",
        "Ng = n_grid_cells\n",
        "rm_fft_real = np.zeros([Ng,res,res])\n",
        "rm_fft_imag = np.zeros([Ng,res,res])\n",
        "\n",
        "# Computing fourier transform to get phases\n",
        "for i in tqdm(range(Ng)):\n",
        "    rm_fft_real[i] = np.real(np.fft.fft2(rate_map[i].reshape([res,res])))\n",
        "    rm_fft_imag[i] = np.imag(np.fft.fft2(rate_map[i].reshape([res,res])))\n",
        "\n",
        "rm_fft = rm_fft_real + 1j * rm_fft_imag\n",
        "\n",
        "k1 = [3,0]\n",
        "k2 = [2,3]\n",
        "k3 = [-1,3]\n",
        "k4=k5=k6=k1\n",
        "\n",
        "freq = 1\n",
        "# Equation 39 in Sorscher paper, spatial later assign a sheet position to each neuron\n",
        "ks = freq*np.array([k1,k2,k3,k4,k5,k6])\n",
        "ks = ks.astype('int')\n",
        "\n",
        "modes = np.stack([rm_fft[:,k[0],k[1]] for k in ks])"
      ]
    },
    {
      "cell_type": "code",
      "execution_count": null,
      "id": "3eeb600a782464a7",
      "metadata": {
        "ExecuteTime": {
          "end_time": "2024-06-16T19:03:48.058944Z",
          "start_time": "2024-06-16T19:03:47.566096Z"
        },
        "id": "3eeb600a782464a7"
      },
      "outputs": [],
      "source": [
        "# Find phases\n",
        "phases = [np.angle(mode) for mode in modes]\n",
        "\n",
        "plt.figure(figsize=(15,5))\n",
        "plt.subplot(131)\n",
        "plt.scatter(phases[0], phases[1], c='black', s=10)\n",
        "plt.xlabel(r'$\\phi_1$')\n",
        "plt.ylabel(r'$\\phi_2$')\n",
        "plt.subplot(132)\n",
        "plt.scatter(phases[1], phases[2], c='black', s=10)\n",
        "plt.xlabel(r'$\\phi_2$')\n",
        "plt.ylabel(r'$\\phi_3$')\n",
        "plt.subplot(133)\n",
        "plt.scatter(phases[0], phases[2], c='black', s=10)\n",
        "plt.xlabel(r'$\\phi_1$')\n",
        "plt.ylabel(r'$\\phi_3$')\n",
        "plt.tight_layout()\n",
        "plt.show()"
      ]
    },
    {
      "cell_type": "markdown",
      "source": [
        "Now that we've found the phases, we can sort the neurons onto a neural sheet (eq 42 from sorscher et al)."
      ],
      "metadata": {
        "id": "qjBqYNJEwzYI"
      },
      "id": "qjBqYNJEwzYI"
    },
    {
      "cell_type": "code",
      "execution_count": null,
      "id": "23f911d7a4ec2d9b",
      "metadata": {
        "ExecuteTime": {
          "end_time": "2024-06-16T19:03:48.675973Z",
          "start_time": "2024-06-16T19:03:48.595345Z"
        },
        "id": "23f911d7a4ec2d9b"
      },
      "outputs": [],
      "source": [
        "N = rate_map.shape[0]\n",
        "n = int(np.sqrt(N))\n",
        "width = int(np.sqrt(N))\n",
        "freq = 1\n",
        "X,Y = np.meshgrid(np.arange(width),np.arange(width))\n",
        "X = X*2*np.pi/width\n",
        "Y = Y*2*np.pi/width\n",
        "\n",
        "s1 = np.zeros(phases[0].shape)\n",
        "s2 = np.zeros(phases[0].shape)\n",
        "\n",
        "fac = np.sqrt(3)/2\n",
        "\n",
        "for i in range(Ng):\n",
        "    penalty_1 = np.cos(freq*X - phases[0][i]/fac)\n",
        "    penalty_2 = np.cos(freq*Y - phases[2][i]/fac)\n",
        "    penalty_3 = np.cos(freq*(X+Y) - phases[1][i]/fac)\n",
        "    ind = np.argmax(penalty_1+penalty_2 + penalty_3  + np.random.randn()/100)\n",
        "    s1[i],s2[i] = np.unravel_index([ind],penalty_1.shape)\n",
        "\n",
        "total_order = get_2d_sort(s1,s2)\n",
        "rm_sort_square = rate_map[total_order.ravel()].reshape([n,n,-1])"
      ]
    },
    {
      "cell_type": "markdown",
      "id": "4e212ec22c77b6a5",
      "metadata": {
        "id": "4e212ec22c77b6a5"
      },
      "source": [
        "## 4.2 Visualising the connectivity\n",
        "\n",
        "So now we have inferred the location on the neural sheet for each of the learned RNN's grid cells. Let's repeat what we did for the ideal attractor network, and see the pattern of excitation and inhibition when moving up/down/left/right."
      ]
    },
    {
      "cell_type": "code",
      "execution_count": null,
      "id": "a5d4252d83e6449a",
      "metadata": {
        "ExecuteTime": {
          "end_time": "2024-06-16T19:03:51.903996Z",
          "start_time": "2024-06-16T19:03:51.240640Z"
        },
        "id": "a5d4252d83e6449a"
      },
      "outputs": [],
      "source": [
        "# Recurrent weights and input weights for velocity\n",
        "J = real_rnn.recurrent_W.T.detach().cpu().numpy()\n",
        "M = real_rnn.velocity_W.T.detach().cpu().numpy()\n",
        "\n",
        "thetas = np.linspace(0, 2 * np.pi, 8, endpoint=False)\n",
        "clock_idxs = np.roll([0, 1, 2, 5, 8, 7, 6, 3], 1)\n",
        "idx = np.ravel_multi_index((25, 25), (res, res))\n",
        "# Derivative of non-linear function, see equation 46\n",
        "# and section Velocity-based updating of positional information in two dimensions in the main paper\n",
        "G = (J @ rate_map) > 0\n",
        "\n",
        "# Head directions in radians\n",
        "head_directions = [0, np.pi/4, np.pi/2, 3*np.pi/4, np.pi, -3*np.pi/4, -np.pi/2, -np.pi/4]\n",
        "# Just a list with axis indexes to plot the rates in neural sheet space\n",
        "subplot_coordinates = [(1, 2), (0, 2), (0, 1), (0, 0), (1, 0), (2, 0), (2, 1), (2, 2)]\n",
        "dir_titles = [\"Right\", \"Up-right\", \"Up\", \"Up-left\", \"Left\", \"Down-left\", \"Down\", \"Down-right\"]\n",
        "\n",
        "f, ax = plt.subplots(3, 3, figsize=(9, 9))\n",
        "for i in range(8):\n",
        "    theta = head_directions[i]\n",
        "    axi, axj = subplot_coordinates[i]\n",
        "\n",
        "    # See equations 45 to 47\n",
        "    v = np.stack([np.cos(theta), np.sin(theta)])\n",
        "    Mv = M.T @ v\n",
        "    GMv = G[:, idx] * Mv\n",
        "    JGMv = J @ GMv\n",
        "\n",
        "    im = JGMv[total_order].reshape(n, n)\n",
        "    im = scipy.ndimage.gaussian_filter(im, (3, 3))\n",
        "    ax[axi, axj].imshow(im, cmap='coolwarm')\n",
        "    ax[axi, axj].set_axis_off()\n",
        "    ax[axi, axj].set_title(f\"Velocity {dir_titles[i]}\")\n",
        "\n",
        "center_ratemap = rate_map[total_order, idx].reshape(n, n)\n",
        "# It is intersting to see what you get when you remove the blurring\n",
        "center_ratemap = scipy.ndimage.gaussian_filter(center_ratemap, (3, 3))\n",
        "ax[1, 1].imshow(center_ratemap, cmap='jet')\n",
        "ax[1, 1].set_axis_off()\n",
        "plt.tight_layout()\n"
      ]
    },
    {
      "cell_type": "markdown",
      "id": "10c4e6b22211a837",
      "metadata": {
        "id": "10c4e6b22211a837"
      },
      "source": [
        "And plot the translations of the neural sheet for each of these movement directions."
      ]
    },
    {
      "cell_type": "code",
      "execution_count": null,
      "id": "609d41c898367ae3",
      "metadata": {
        "ExecuteTime": {
          "end_time": "2024-06-16T19:03:57.483623Z",
          "start_time": "2024-06-16T19:03:51.905096Z"
        },
        "id": "609d41c898367ae3"
      },
      "outputs": [],
      "source": [
        "# Skew matrix to transform parallelogram unit cells to squares\n",
        "A = np.asarray([[2,1],[0, np.sqrt(3)]])/4\n",
        "Ainv = np.linalg.inv(A)\n",
        "\n",
        "freq = 2\n",
        "nplots=10\n",
        "fig, axes = plt.subplots(nplots,nplots, figsize=(16,16))\n",
        "for i in range(nplots):\n",
        "    for j in range(nplots):\n",
        "        # Not sure what is happening here, it is part of the original code\n",
        "        # It seems like it is projecting the rates to some space where you can see the grids\n",
        "        # We use this later to plot the rates in neural sheet space for each velocity\n",
        "        idx = np.ravel_multi_index(((i+nplots//2)*res//nplots//freq,\n",
        "                                    (j+nplots//2)*res//nplots//freq), (res,res))\n",
        "        im = rm_sort_square[:,:,idx]\n",
        "        im = scipy.ndimage.affine_transform(im, Ainv, mode='wrap')\n",
        "        im = scipy.ndimage.gaussian_filter(im, sigma=(2,2))\n",
        "        axes[j,i].imshow(im.T, cmap='jet')\n",
        "        axes[j, i].set_title(f\"idx {idx}\")\n",
        "        axes[j,i].axis('off')\n",
        "im.shape"
      ]
    },
    {
      "cell_type": "code",
      "execution_count": null,
      "id": "25743ba34c4d96df",
      "metadata": {
        "ExecuteTime": {
          "end_time": "2024-06-16T19:03:58.283442Z",
          "start_time": "2024-06-16T19:03:57.484577Z"
        },
        "id": "25743ba34c4d96df"
      },
      "outputs": [],
      "source": [
        "thetas = np.linspace(0, 2 * np.pi, 8, endpoint=False)\n",
        "clock_idxs = np.roll([0, 1, 2, 5, 8, 7, 6, 3], 1)\n",
        "idx = 1272  # Pick a nice grid from above and use its index\n",
        "A = np.asarray([[2,1],[0, np.sqrt(3)]])/4\n",
        "Ainv = np.linalg.inv(A)\n",
        "\n",
        "# Head directions in radians\n",
        "head_directions = [0, np.pi/4, np.pi/2, 3*np.pi/4, np.pi, -3*np.pi/4, -np.pi/2, -np.pi/4]\n",
        "# Just a list with axis indexes to plot the rates in neural sheet space\n",
        "subplot_coordinates = [(1, 2), (0, 2), (0, 1), (0, 0), (1, 0), (2, 0), (2, 1), (2, 2)]\n",
        "dir_titles = [\"Right\", \"Up-right\", \"Up\", \"Up-left\", \"Left\", \"Down-left\", \"Down\", \"Down-right\"]\n",
        "smoothing = 2\n",
        "\n",
        "f, ax = plt.subplots(3, 3, figsize=(9, 9))\n",
        "for i in range(8):\n",
        "    theta = head_directions[i]\n",
        "    axi, axj = subplot_coordinates[i]\n",
        "\n",
        "    # See equations 2 in the appendix\n",
        "    v = np.stack([np.cos(theta), np.sin(theta)]) * 0.5\n",
        "    Mv = M.T @ v\n",
        "    rate = np.maximum((J @ rate_map)[:, idx] + Mv, 0)\n",
        "    rate = rate[total_order]\n",
        "\n",
        "    im = rate.reshape(n, n)\n",
        "    im = scipy.ndimage.affine_transform(im, Ainv, mode='wrap')\n",
        "    # THE SMOOTHING IS QUITE IMPORTAN, otherwise you'll se a bunch of dots\n",
        "    im = scipy.ndimage.gaussian_filter(im, (smoothing, smoothing))\n",
        "    ax[axi, axj].imshow(im, cmap='jet')\n",
        "    ax[axi, axj].set_axis_off()\n",
        "    ax[axi, axj].set_title(f\"Velocity {dir_titles[i]}\")\n",
        "\n",
        "center_ratemap = rate_map[total_order, idx].reshape(n, n)\n",
        "# It is interesting to see what you get when you remove the blurring\n",
        "center_ratemap = scipy.ndimage.affine_transform(center_ratemap, Ainv, mode='wrap')\n",
        "center_ratemap = scipy.ndimage.gaussian_filter(center_ratemap, (smoothing, smoothing))\n",
        "ax[1, 1].imshow(center_ratemap, cmap='jet')\n",
        "ax[1, 1].set_axis_off()\n",
        "plt.tight_layout()"
      ]
    },
    {
      "cell_type": "markdown",
      "id": "9a6f3fd1cbf8589d",
      "metadata": {
        "id": "9a6f3fd1cbf8589d"
      },
      "source": [
        "## 4.3 Manifold\n",
        "\n",
        "\n"
      ]
    },
    {
      "cell_type": "markdown",
      "source": [
        "And then we'll plot the manifold again. We'll cheat a bit: previously we recorded activity of all neurons along a trajectory, and then did PCA on the [time x neuron] matrix. Here we didn't record neural activity along a trajectory, but we do have rate maps for all neurons in our trained RNN. So we can just pretend every bin of the ratemap is a time step, and carry out the exact same analysis. You'll probably know the drill by now - do another 3D pca. Hopefully the result looks like a toroid..."
      ],
      "metadata": {
        "id": "Gs0jrvW7rqfa"
      },
      "id": "Gs0jrvW7rqfa"
    },
    {
      "cell_type": "code",
      "source": [
        "# Exercise : do a PCA to see the manifold"
      ],
      "metadata": {
        "id": "MPRp9yufsk_Y"
      },
      "id": "MPRp9yufsk_Y",
      "execution_count": null,
      "outputs": []
    },
    {
      "cell_type": "code",
      "source": [
        "# @title Solution\n",
        "# Exercise : do a PCA to see the manifold\n",
        "\n",
        "pca = PCA(n_components=3)\n",
        "pca.fit(rate_map.T)\n",
        "\n",
        "two_d = pca.transform(rate_map.T)\n",
        "\n",
        "fig = plt.figure()\n",
        "ax = fig.add_subplot(projection='3d')\n",
        "ax.scatter(*two_d.T)"
      ],
      "metadata": {
        "id": "R3j6pMrk6U8o"
      },
      "id": "R3j6pMrk6U8o",
      "execution_count": null,
      "outputs": []
    },
    {
      "cell_type": "markdown",
      "source": [
        "As mentioned before, perfect grid cells can be defined by a phase along three axes $k_{0^o}, k_{60^o}, k_{120^o}$. So then if each RNN grid cell was a perfect grid cell, their firing rate would be\n",
        "\n",
        "$\\vec{r}(\\vec{x}) = \\sum_a \\cos (\\vec{k}_a \\cdot \\vec{x} - \\phi_a) = \\sum_a \\cos(\\phi_a) \\cos(\\vec{k}_a \\cdot \\vec{x}) + \\sin(\\phi_a) \\sin(\\vec{k}_a \\cdot \\vec{x})$\n",
        "\n",
        "so projecting the population activity onto the three pairs of axes defined above would reveal a set of three perfect rings (again we refer the interested reader to Equations 28-34 in [Sorscher et al](https://www.cell.com/neuron/pdf/S0896-6273(22)00907-2.pdf)). Let's see if that's true for the trained RNN's grid cells."
      ],
      "metadata": {
        "id": "9ZI5jIX36Xtj"
      },
      "id": "9ZI5jIX36Xtj"
    },
    {
      "cell_type": "code",
      "execution_count": null,
      "id": "7342be20952e40d3",
      "metadata": {
        "ExecuteTime": {
          "end_time": "2024-06-16T19:03:48.594226Z",
          "start_time": "2024-06-16T19:03:48.060018Z"
        },
        "id": "7342be20952e40d3"
      },
      "outputs": [],
      "source": [
        "freq = 1\n",
        "crop = 0\n",
        "cmaps = ['Blues', 'Oranges', 'Greens']\n",
        "x = np.mgrid[:res,:res] * 2*np.pi/ res\n",
        "x = x.reshape(2, -1)\n",
        "k = freq*np.stack([k1,k2,k3])\n",
        "X = np.concatenate([np.cos(k.dot(x)), np.sin(k.dot(x))], axis=0)\n",
        "idxs1, idxs2 = np.mgrid[crop:res-crop, crop:res-crop]\n",
        "idxs = np.ravel_multi_index((idxs1,idxs2), (res,res)).ravel()\n",
        "\n",
        "plt.figure(figsize=(12,4))\n",
        "for i in range(3):\n",
        "    plt.subplot(1,3,i+1)\n",
        "    B = np.stack([np.cos(phases[i]), np.sin(phases[i])])\n",
        "    test = B@rate_map\n",
        "    plt.scatter(test[0], test[1], c=X[i][idxs], cmap=cmaps[i], s=20)\n",
        "    plt.axis('off')\n",
        "plt.tight_layout()"
      ]
    },
    {
      "cell_type": "markdown",
      "id": "f4b6ce07fb489bb7",
      "metadata": {
        "id": "f4b6ce07fb489bb7"
      },
      "source": [
        "## 4.4 Dynamical systems stuff\n",
        "\n",
        "Finally, for dynamical systems folks, you can look at the eigenvalues of the connectivity matrix to get some further idea of the neural dynamics."
      ]
    },
    {
      "cell_type": "code",
      "execution_count": null,
      "id": "41bfe774ade758c4",
      "metadata": {
        "ExecuteTime": {
          "end_time": "2024-06-16T19:03:49.056213Z",
          "start_time": "2024-06-16T19:03:48.708208Z"
        },
        "id": "41bfe774ade758c4"
      },
      "outputs": [],
      "source": [
        "# Unsorted weight matrix\n",
        "J = real_rnn.recurrent_W.detach().cpu().numpy()\n",
        "plt.figure(figsize=(6,6))\n",
        "plt.imshow(J, cmap='coolwarm')\n",
        "plt.title('J')"
      ]
    },
    {
      "cell_type": "code",
      "execution_count": null,
      "id": "b99f18b0439bcba5",
      "metadata": {
        "ExecuteTime": {
          "end_time": "2024-06-16T19:03:50.039768Z",
          "start_time": "2024-06-16T19:03:49.058027Z"
        },
        "id": "b99f18b0439bcba5"
      },
      "outputs": [],
      "source": [
        "# Eigenvalues\n",
        "eigs, eigvs = np.linalg.eig(J)\n",
        "\n",
        "fig, ax = plt.subplots()\n",
        "plt.scatter(np.real(eigs), np.imag(eigs), c='black', s=20)\n",
        "plt.scatter(np.real(eigs[:9]), np.imag(eigs[:9]), c='C1', s=20)\n",
        "circle1 = plt.Circle((0, 0), 1, color='tan',\n",
        "                     fill=False, linestyle='dashed', linewidth=2)\n",
        "ax.add_artist(circle1)\n",
        "plt.xlim([-1.1,2.5])\n",
        "plt.ylim([-1.1,1.1])\n",
        "plt.xlabel('Real')\n",
        "plt.ylabel('Imaginary')\n",
        "plt.gca().set_aspect('equal', adjustable='box')\n",
        "plt.locator_params(nbins=4)\n",
        "# plt.axis('equal')\n",
        "# sns.despine()\n",
        "# plt.savefig('images/final_eigs.pdf')"
      ]
    },
    {
      "cell_type": "code",
      "execution_count": null,
      "id": "a13000246cf64c58",
      "metadata": {
        "ExecuteTime": {
          "end_time": "2024-06-16T19:03:50.353581Z",
          "start_time": "2024-06-16T19:03:50.041122Z"
        },
        "id": "a13000246cf64c58"
      },
      "outputs": [],
      "source": [
        "U,S,V = np.linalg.svd(J)\n",
        "\n",
        "plt.figure(figsize=(8,4))\n",
        "plt.plot(S[:100], 'o-', c='black')\n",
        "plt.plot(S[:9], 'o-', c='C1')\n",
        "plt.ylabel('Singular value')\n",
        "plt.xlabel('Index')\n",
        "# sns.despine();"
      ]
    }
  ],
  "metadata": {
    "kernelspec": {
      "display_name": "Python 3",
      "name": "python3"
    },
    "language_info": {
      "codemirror_mode": {
        "name": "ipython",
        "version": 3
      },
      "file_extension": ".py",
      "mimetype": "text/x-python",
      "name": "python",
      "nbconvert_exporter": "python",
      "pygments_lexer": "ipython3",
      "version": "3.12.3"
    },
    "colab": {
      "provenance": [],
      "toc_visible": true,
      "include_colab_link": true
    }
  },
  "nbformat": 4,
  "nbformat_minor": 5
}